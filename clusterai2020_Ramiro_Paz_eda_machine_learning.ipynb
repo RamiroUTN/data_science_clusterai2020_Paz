{
 "cells": [
  {
   "cell_type": "markdown",
   "metadata": {},
   "source": [
    "# ClusterAI 2020\n",
    "## Ciencia de Datos - Ingenieria Industrial UTN BA¶\n",
    "## Curso I5521\n",
    "### Trabajo Final: Tarjeta AlimentAR\n",
    "\n",
    "#### Elaborado por: Ramiro Paz (Alumno Oyente)\n"
   ]
  },
  {
   "cell_type": "code",
   "execution_count": 1,
   "metadata": {},
   "outputs": [
    {
     "name": "stdout",
     "output_type": "stream",
     "text": [
      "Requirement already satisfied: geopandas in ./opt/anaconda3/lib/python3.8/site-packages (0.8.1)\n",
      "Requirement already satisfied: shapely in ./opt/anaconda3/lib/python3.8/site-packages (from geopandas) (1.7.1)\n",
      "Requirement already satisfied: pandas>=0.23.0 in ./opt/anaconda3/lib/python3.8/site-packages (from geopandas) (1.0.5)\n",
      "Requirement already satisfied: pyproj>=2.2.0 in ./opt/anaconda3/lib/python3.8/site-packages (from geopandas) (3.0.0.post1)\n",
      "Requirement already satisfied: fiona in ./opt/anaconda3/lib/python3.8/site-packages (from geopandas) (1.8.17)\n",
      "Requirement already satisfied: numpy>=1.13.3 in ./opt/anaconda3/lib/python3.8/site-packages (from pandas>=0.23.0->geopandas) (1.18.5)\n",
      "Requirement already satisfied: python-dateutil>=2.6.1 in ./opt/anaconda3/lib/python3.8/site-packages (from pandas>=0.23.0->geopandas) (2.8.1)\n",
      "Requirement already satisfied: pytz>=2017.2 in ./opt/anaconda3/lib/python3.8/site-packages (from pandas>=0.23.0->geopandas) (2020.1)\n",
      "Requirement already satisfied: certifi in ./opt/anaconda3/lib/python3.8/site-packages (from pyproj>=2.2.0->geopandas) (2020.6.20)\n",
      "Requirement already satisfied: six>=1.7 in ./opt/anaconda3/lib/python3.8/site-packages (from fiona->geopandas) (1.15.0)\n",
      "Requirement already satisfied: attrs>=17 in ./opt/anaconda3/lib/python3.8/site-packages (from fiona->geopandas) (19.3.0)\n",
      "Requirement already satisfied: cligj>=0.5 in ./opt/anaconda3/lib/python3.8/site-packages (from fiona->geopandas) (0.7.0)\n",
      "Requirement already satisfied: click-plugins>=1.0 in ./opt/anaconda3/lib/python3.8/site-packages (from fiona->geopandas) (1.1.1)\n",
      "Requirement already satisfied: click<8,>=4.0 in ./opt/anaconda3/lib/python3.8/site-packages (from fiona->geopandas) (7.1.2)\n",
      "Requirement already satisfied: munch in ./opt/anaconda3/lib/python3.8/site-packages (from fiona->geopandas) (2.5.0)\n",
      "Note: you may need to restart the kernel to use updated packages.\n"
     ]
    }
   ],
   "source": [
    "pip install geopandas\n"
   ]
  },
  {
   "cell_type": "code",
   "execution_count": 2,
   "metadata": {},
   "outputs": [
    {
     "name": "stdout",
     "output_type": "stream",
     "text": [
      "Requirement already satisfied: descartes in ./opt/anaconda3/lib/python3.8/site-packages (1.1.0)\n",
      "Requirement already satisfied: matplotlib in ./opt/anaconda3/lib/python3.8/site-packages (from descartes) (3.2.2)\n",
      "Requirement already satisfied: numpy>=1.11 in ./opt/anaconda3/lib/python3.8/site-packages (from matplotlib->descartes) (1.18.5)\n",
      "Requirement already satisfied: kiwisolver>=1.0.1 in ./opt/anaconda3/lib/python3.8/site-packages (from matplotlib->descartes) (1.2.0)\n",
      "Requirement already satisfied: pyparsing!=2.0.4,!=2.1.2,!=2.1.6,>=2.0.1 in ./opt/anaconda3/lib/python3.8/site-packages (from matplotlib->descartes) (2.4.7)\n",
      "Requirement already satisfied: cycler>=0.10 in ./opt/anaconda3/lib/python3.8/site-packages (from matplotlib->descartes) (0.10.0)\n",
      "Requirement already satisfied: python-dateutil>=2.1 in ./opt/anaconda3/lib/python3.8/site-packages (from matplotlib->descartes) (2.8.1)\n",
      "Requirement already satisfied: six in ./opt/anaconda3/lib/python3.8/site-packages (from cycler>=0.10->matplotlib->descartes) (1.15.0)\n",
      "Note: you may need to restart the kernel to use updated packages.\n"
     ]
    }
   ],
   "source": [
    "pip install descartes"
   ]
  },
  {
   "cell_type": "markdown",
   "metadata": {},
   "source": [
    "## Librerías a Importar"
   ]
  },
  {
   "cell_type": "code",
   "execution_count": 108,
   "metadata": {},
   "outputs": [],
   "source": [
    "#Importar líbrerias útiles al análisis de datos\n",
    " \n",
    "#LIB de Datos\n",
    "import pandas as pd\n",
    "import numpy as np\n",
    "\n",
    "#LIB de Gráficos\n",
    "import matplotlib.pyplot as plt\n",
    "import seaborn as sns\n",
    "import geopandas as gpd\n",
    "from descartes import PolygonPatch\n",
    "from shapely.geometry import Point\n",
    "from mpl_toolkits.axes_grid1 import make_axes_locatable\n",
    "\n",
    "#Machine Learning\n",
    "from sklearn.model_selection import train_test_split, GridSearchCV\n",
    "from sklearn.linear_model import LinearRegression\n",
    "from sklearn.metrics import mean_squared_error, r2_score\n",
    "from sklearn import preprocessing\n",
    "from sklearn.metrics import mean_absolute_error\n",
    "from sklearn.svm import SVR\n",
    "from sklearn.linear_model import LassoCV, SGDRegressor\n",
    "from sklearn.neighbors import KNeighborsRegressor\n",
    "from sklearn.preprocessing import MinMaxScaler, StandardScaler\n"
   ]
  },
  {
   "cell_type": "code",
   "execution_count": 109,
   "metadata": {},
   "outputs": [
    {
     "data": {
      "text/html": [
       "<div>\n",
       "<style scoped>\n",
       "    .dataframe tbody tr th:only-of-type {\n",
       "        vertical-align: middle;\n",
       "    }\n",
       "\n",
       "    .dataframe tbody tr th {\n",
       "        vertical-align: top;\n",
       "    }\n",
       "\n",
       "    .dataframe thead th {\n",
       "        text-align: right;\n",
       "    }\n",
       "</style>\n",
       "<table border=\"1\" class=\"dataframe\">\n",
       "  <thead>\n",
       "    <tr style=\"text-align: right;\">\n",
       "      <th></th>\n",
       "      <th>OBJECTID</th>\n",
       "      <th>Entidad</th>\n",
       "      <th>Objeto</th>\n",
       "      <th>FNA</th>\n",
       "      <th>GNA</th>\n",
       "      <th>NAM</th>\n",
       "      <th>SAG</th>\n",
       "      <th>FDC</th>\n",
       "      <th>IN1</th>\n",
       "      <th>SHAPE_STAr</th>\n",
       "      <th>SHAPE_STLe</th>\n",
       "      <th>geometry</th>\n",
       "    </tr>\n",
       "  </thead>\n",
       "  <tbody>\n",
       "    <tr>\n",
       "      <th>0</th>\n",
       "      <td>427</td>\n",
       "      <td>0</td>\n",
       "      <td>Provincia</td>\n",
       "      <td>Ciudad Autónoma de Buenos Aires</td>\n",
       "      <td>Ciudad Autónoma</td>\n",
       "      <td>Ciudad Autónoma de Buenos Aires</td>\n",
       "      <td>IGN</td>\n",
       "      <td>Geografía</td>\n",
       "      <td>02</td>\n",
       "      <td>0.020242</td>\n",
       "      <td>0.743806</td>\n",
       "      <td>POLYGON Z ((-58.34189 -34.63110 0.00000, -58.3...</td>\n",
       "    </tr>\n",
       "    <tr>\n",
       "      <th>1</th>\n",
       "      <td>428</td>\n",
       "      <td>0</td>\n",
       "      <td>Provincia</td>\n",
       "      <td>Provincia del Neuquén</td>\n",
       "      <td>Provincia</td>\n",
       "      <td>Neuquén</td>\n",
       "      <td>IGN</td>\n",
       "      <td>Geografía</td>\n",
       "      <td>58</td>\n",
       "      <td>9.771811</td>\n",
       "      <td>21.515985</td>\n",
       "      <td>POLYGON Z ((-70.39345 -36.15526 0.00000, -70.3...</td>\n",
       "    </tr>\n",
       "    <tr>\n",
       "      <th>2</th>\n",
       "      <td>429</td>\n",
       "      <td>0</td>\n",
       "      <td>Provincia</td>\n",
       "      <td>Provincia de La Pampa</td>\n",
       "      <td>Provincia</td>\n",
       "      <td>La Pampa</td>\n",
       "      <td>IGN</td>\n",
       "      <td>Geografía</td>\n",
       "      <td>42</td>\n",
       "      <td>14.553019</td>\n",
       "      <td>19.665614</td>\n",
       "      <td>MULTIPOLYGON Z (((-64.76547 -40.78351 0.00000,...</td>\n",
       "    </tr>\n",
       "    <tr>\n",
       "      <th>3</th>\n",
       "      <td>430</td>\n",
       "      <td>0</td>\n",
       "      <td>Provincia</td>\n",
       "      <td>Provincia de Mendoza</td>\n",
       "      <td>Provincia</td>\n",
       "      <td>Mendoza</td>\n",
       "      <td>IGN</td>\n",
       "      <td>Geografía</td>\n",
       "      <td>50</td>\n",
       "      <td>14.658388</td>\n",
       "      <td>23.259986</td>\n",
       "      <td>POLYGON Z ((-69.12570 -32.00283 0.00000, -69.1...</td>\n",
       "    </tr>\n",
       "    <tr>\n",
       "      <th>4</th>\n",
       "      <td>431</td>\n",
       "      <td>0</td>\n",
       "      <td>Provincia</td>\n",
       "      <td>Provincia de San Luis</td>\n",
       "      <td>Provincia</td>\n",
       "      <td>San Luis</td>\n",
       "      <td>IGN</td>\n",
       "      <td>Geografía</td>\n",
       "      <td>74</td>\n",
       "      <td>7.333771</td>\n",
       "      <td>14.490196</td>\n",
       "      <td>POLYGON Z ((-67.05547 -31.85605 0.00000, -67.0...</td>\n",
       "    </tr>\n",
       "    <tr>\n",
       "      <th>5</th>\n",
       "      <td>432</td>\n",
       "      <td>0</td>\n",
       "      <td>Provincia</td>\n",
       "      <td>Provincia de Córdoba</td>\n",
       "      <td>Provincia</td>\n",
       "      <td>Córdoba</td>\n",
       "      <td>IGN</td>\n",
       "      <td>Geografía</td>\n",
       "      <td>14</td>\n",
       "      <td>15.748328</td>\n",
       "      <td>18.453115</td>\n",
       "      <td>POLYGON Z ((-63.87035 -29.62387 0.00000, -63.8...</td>\n",
       "    </tr>\n",
       "    <tr>\n",
       "      <th>6</th>\n",
       "      <td>433</td>\n",
       "      <td>0</td>\n",
       "      <td>Provincia</td>\n",
       "      <td>Provincia de Santa Fe</td>\n",
       "      <td>Provincia</td>\n",
       "      <td>Santa Fe</td>\n",
       "      <td>IGN</td>\n",
       "      <td>Geografía</td>\n",
       "      <td>82</td>\n",
       "      <td>12.552838</td>\n",
       "      <td>20.852280</td>\n",
       "      <td>POLYGON Z ((-60.27271 -33.26386 0.00000, -60.2...</td>\n",
       "    </tr>\n",
       "    <tr>\n",
       "      <th>7</th>\n",
       "      <td>434</td>\n",
       "      <td>0</td>\n",
       "      <td>Provincia</td>\n",
       "      <td>Provincia de Entre Ríos</td>\n",
       "      <td>Provincia</td>\n",
       "      <td>Entre Ríos</td>\n",
       "      <td>IGN</td>\n",
       "      <td>Geografía</td>\n",
       "      <td>30</td>\n",
       "      <td>7.486487</td>\n",
       "      <td>14.359091</td>\n",
       "      <td>POLYGON Z ((-58.58138 -30.16010 0.00000, -58.5...</td>\n",
       "    </tr>\n",
       "    <tr>\n",
       "      <th>8</th>\n",
       "      <td>435</td>\n",
       "      <td>0</td>\n",
       "      <td>Provincia</td>\n",
       "      <td>Provincia de San Juan</td>\n",
       "      <td>Provincia</td>\n",
       "      <td>San Juan</td>\n",
       "      <td>IGN</td>\n",
       "      <td>Geografía</td>\n",
       "      <td>70</td>\n",
       "      <td>8.328441</td>\n",
       "      <td>19.445606</td>\n",
       "      <td>POLYGON Z ((-69.62981 -28.39369 0.00000, -69.6...</td>\n",
       "    </tr>\n",
       "    <tr>\n",
       "      <th>9</th>\n",
       "      <td>436</td>\n",
       "      <td>0</td>\n",
       "      <td>Provincia</td>\n",
       "      <td>Provincia de La Rioja</td>\n",
       "      <td>Provincia</td>\n",
       "      <td>La Rioja</td>\n",
       "      <td>IGN</td>\n",
       "      <td>Geografía</td>\n",
       "      <td>46</td>\n",
       "      <td>8.529216</td>\n",
       "      <td>16.426132</td>\n",
       "      <td>POLYGON Z ((-68.52083 -27.81988 0.00000, -68.5...</td>\n",
       "    </tr>\n",
       "    <tr>\n",
       "      <th>10</th>\n",
       "      <td>437</td>\n",
       "      <td>0</td>\n",
       "      <td>Provincia</td>\n",
       "      <td>Provincia de Catamarca</td>\n",
       "      <td>Provincia</td>\n",
       "      <td>Catamarca</td>\n",
       "      <td>IGN</td>\n",
       "      <td>Geografía</td>\n",
       "      <td>10</td>\n",
       "      <td>9.256945</td>\n",
       "      <td>21.706082</td>\n",
       "      <td>POLYGON Z ((-68.10862 -25.21178 0.00000, -68.1...</td>\n",
       "    </tr>\n",
       "    <tr>\n",
       "      <th>11</th>\n",
       "      <td>438</td>\n",
       "      <td>0</td>\n",
       "      <td>Provincia</td>\n",
       "      <td>Provincia de Tucumán</td>\n",
       "      <td>Provincia</td>\n",
       "      <td>Tucumán</td>\n",
       "      <td>IGN</td>\n",
       "      <td>Geografía</td>\n",
       "      <td>90</td>\n",
       "      <td>2.053388</td>\n",
       "      <td>8.403373</td>\n",
       "      <td>POLYGON Z ((-65.35915 -26.05944 0.00000, -65.3...</td>\n",
       "    </tr>\n",
       "    <tr>\n",
       "      <th>12</th>\n",
       "      <td>439</td>\n",
       "      <td>0</td>\n",
       "      <td>Provincia</td>\n",
       "      <td>Provincia de Jujuy</td>\n",
       "      <td>Provincia</td>\n",
       "      <td>Jujuy</td>\n",
       "      <td>IGN</td>\n",
       "      <td>Geografía</td>\n",
       "      <td>38</td>\n",
       "      <td>4.700836</td>\n",
       "      <td>13.894755</td>\n",
       "      <td>POLYGON Z ((-65.18657 -22.08535 0.00000, -65.1...</td>\n",
       "    </tr>\n",
       "    <tr>\n",
       "      <th>13</th>\n",
       "      <td>440</td>\n",
       "      <td>0</td>\n",
       "      <td>Provincia</td>\n",
       "      <td>Provincia del Chaco</td>\n",
       "      <td>Provincia</td>\n",
       "      <td>Chaco</td>\n",
       "      <td>IGN</td>\n",
       "      <td>Geografía</td>\n",
       "      <td>22</td>\n",
       "      <td>9.024889</td>\n",
       "      <td>19.239419</td>\n",
       "      <td>POLYGON Z ((-62.24919 -24.14075 0.00000, -62.2...</td>\n",
       "    </tr>\n",
       "    <tr>\n",
       "      <th>14</th>\n",
       "      <td>441</td>\n",
       "      <td>0</td>\n",
       "      <td>Provincia</td>\n",
       "      <td>Provincia de Formosa</td>\n",
       "      <td>Provincia</td>\n",
       "      <td>Formosa</td>\n",
       "      <td>IGN</td>\n",
       "      <td>Geografía</td>\n",
       "      <td>34</td>\n",
       "      <td>6.745721</td>\n",
       "      <td>21.849711</td>\n",
       "      <td>POLYGON Z ((-62.31201 -22.48666 0.00000, -62.3...</td>\n",
       "    </tr>\n",
       "    <tr>\n",
       "      <th>15</th>\n",
       "      <td>442</td>\n",
       "      <td>0</td>\n",
       "      <td>Provincia</td>\n",
       "      <td>Provincia de Santiago del Estero</td>\n",
       "      <td>Provincia</td>\n",
       "      <td>Santiago del Estero</td>\n",
       "      <td>IGN</td>\n",
       "      <td>Geografía</td>\n",
       "      <td>86</td>\n",
       "      <td>12.540224</td>\n",
       "      <td>16.353091</td>\n",
       "      <td>POLYGON Z ((-62.04553 -25.65357 0.00000, -62.0...</td>\n",
       "    </tr>\n",
       "    <tr>\n",
       "      <th>16</th>\n",
       "      <td>443</td>\n",
       "      <td>0</td>\n",
       "      <td>Provincia</td>\n",
       "      <td>Provincia de Tierra del Fuego, Antártida e Isl...</td>\n",
       "      <td>Provincia</td>\n",
       "      <td>Tierra del Fuego, Antártida e Islas del Atlánt...</td>\n",
       "      <td>IGN</td>\n",
       "      <td>Geografía</td>\n",
       "      <td>94</td>\n",
       "      <td>566.267612</td>\n",
       "      <td>749.983159</td>\n",
       "      <td>MULTIPOLYGON Z (((-25.00000 -75.87687 0.00000,...</td>\n",
       "    </tr>\n",
       "    <tr>\n",
       "      <th>17</th>\n",
       "      <td>444</td>\n",
       "      <td>0</td>\n",
       "      <td>Provincia</td>\n",
       "      <td>Provincia de Santa Cruz</td>\n",
       "      <td>Provincia</td>\n",
       "      <td>Santa Cruz</td>\n",
       "      <td>IGN</td>\n",
       "      <td>Geografía</td>\n",
       "      <td>78</td>\n",
       "      <td>29.943876</td>\n",
       "      <td>40.835553</td>\n",
       "      <td>MULTIPOLYGON Z (((-69.41581 -51.08958 0.00000,...</td>\n",
       "    </tr>\n",
       "    <tr>\n",
       "      <th>18</th>\n",
       "      <td>445</td>\n",
       "      <td>0</td>\n",
       "      <td>Provincia</td>\n",
       "      <td>Provincia del Chubut</td>\n",
       "      <td>Provincia</td>\n",
       "      <td>Chubut</td>\n",
       "      <td>IGN</td>\n",
       "      <td>Geografía</td>\n",
       "      <td>26</td>\n",
       "      <td>25.085834</td>\n",
       "      <td>38.837945</td>\n",
       "      <td>MULTIPOLYGON Z (((-66.69852 -45.24747 0.00000,...</td>\n",
       "    </tr>\n",
       "    <tr>\n",
       "      <th>19</th>\n",
       "      <td>446</td>\n",
       "      <td>0</td>\n",
       "      <td>Provincia</td>\n",
       "      <td>Provincia de Río Negro</td>\n",
       "      <td>Provincia</td>\n",
       "      <td>Río Negro</td>\n",
       "      <td>IGN</td>\n",
       "      <td>Geografía</td>\n",
       "      <td>62</td>\n",
       "      <td>21.451137</td>\n",
       "      <td>30.997274</td>\n",
       "      <td>POLYGON Z ((-68.23910 -37.58496 0.00000, -68.2...</td>\n",
       "    </tr>\n",
       "    <tr>\n",
       "      <th>20</th>\n",
       "      <td>447</td>\n",
       "      <td>0</td>\n",
       "      <td>Provincia</td>\n",
       "      <td>Provincia de Buenos Aires</td>\n",
       "      <td>Provincia</td>\n",
       "      <td>Buenos Aires</td>\n",
       "      <td>IGN</td>\n",
       "      <td>Geografía</td>\n",
       "      <td>06</td>\n",
       "      <td>30.805998</td>\n",
       "      <td>34.035576</td>\n",
       "      <td>POLYGON Z ((-60.27237 -33.26349 0.00000, -60.2...</td>\n",
       "    </tr>\n",
       "    <tr>\n",
       "      <th>21</th>\n",
       "      <td>448</td>\n",
       "      <td>0</td>\n",
       "      <td>Provincia</td>\n",
       "      <td>Provincia de Corrientes</td>\n",
       "      <td>Provincia</td>\n",
       "      <td>Corrientes</td>\n",
       "      <td>IGN</td>\n",
       "      <td>Geografía</td>\n",
       "      <td>18</td>\n",
       "      <td>8.235679</td>\n",
       "      <td>20.594672</td>\n",
       "      <td>MULTIPOLYGON Z (((-56.86162 -27.59213 0.00000,...</td>\n",
       "    </tr>\n",
       "    <tr>\n",
       "      <th>22</th>\n",
       "      <td>449</td>\n",
       "      <td>0</td>\n",
       "      <td>Provincia</td>\n",
       "      <td>Provincia de Misiones</td>\n",
       "      <td>Provincia</td>\n",
       "      <td>Misiones</td>\n",
       "      <td>IGN</td>\n",
       "      <td>Geografía</td>\n",
       "      <td>54</td>\n",
       "      <td>2.717002</td>\n",
       "      <td>13.315559</td>\n",
       "      <td>MULTIPOLYGON Z (((-53.67370 -26.33224 0.00000,...</td>\n",
       "    </tr>\n",
       "    <tr>\n",
       "      <th>23</th>\n",
       "      <td>450</td>\n",
       "      <td>0</td>\n",
       "      <td>Provincia</td>\n",
       "      <td>Provincia de Salta</td>\n",
       "      <td>Provincia</td>\n",
       "      <td>Salta</td>\n",
       "      <td>IGN</td>\n",
       "      <td>Geografía</td>\n",
       "      <td>66</td>\n",
       "      <td>13.817805</td>\n",
       "      <td>30.275950</td>\n",
       "      <td>POLYGON Z ((-62.34230 -22.46084 0.00000, -62.3...</td>\n",
       "    </tr>\n",
       "  </tbody>\n",
       "</table>\n",
       "</div>"
      ],
      "text/plain": [
       "    OBJECTID  Entidad     Objeto  \\\n",
       "0        427        0  Provincia   \n",
       "1        428        0  Provincia   \n",
       "2        429        0  Provincia   \n",
       "3        430        0  Provincia   \n",
       "4        431        0  Provincia   \n",
       "5        432        0  Provincia   \n",
       "6        433        0  Provincia   \n",
       "7        434        0  Provincia   \n",
       "8        435        0  Provincia   \n",
       "9        436        0  Provincia   \n",
       "10       437        0  Provincia   \n",
       "11       438        0  Provincia   \n",
       "12       439        0  Provincia   \n",
       "13       440        0  Provincia   \n",
       "14       441        0  Provincia   \n",
       "15       442        0  Provincia   \n",
       "16       443        0  Provincia   \n",
       "17       444        0  Provincia   \n",
       "18       445        0  Provincia   \n",
       "19       446        0  Provincia   \n",
       "20       447        0  Provincia   \n",
       "21       448        0  Provincia   \n",
       "22       449        0  Provincia   \n",
       "23       450        0  Provincia   \n",
       "\n",
       "                                                  FNA              GNA  \\\n",
       "0                     Ciudad Autónoma de Buenos Aires  Ciudad Autónoma   \n",
       "1                               Provincia del Neuquén        Provincia   \n",
       "2                               Provincia de La Pampa        Provincia   \n",
       "3                                Provincia de Mendoza        Provincia   \n",
       "4                               Provincia de San Luis        Provincia   \n",
       "5                                Provincia de Córdoba        Provincia   \n",
       "6                               Provincia de Santa Fe        Provincia   \n",
       "7                             Provincia de Entre Ríos        Provincia   \n",
       "8                               Provincia de San Juan        Provincia   \n",
       "9                               Provincia de La Rioja        Provincia   \n",
       "10                             Provincia de Catamarca        Provincia   \n",
       "11                               Provincia de Tucumán        Provincia   \n",
       "12                                 Provincia de Jujuy        Provincia   \n",
       "13                                Provincia del Chaco        Provincia   \n",
       "14                               Provincia de Formosa        Provincia   \n",
       "15                   Provincia de Santiago del Estero        Provincia   \n",
       "16  Provincia de Tierra del Fuego, Antártida e Isl...        Provincia   \n",
       "17                            Provincia de Santa Cruz        Provincia   \n",
       "18                               Provincia del Chubut        Provincia   \n",
       "19                             Provincia de Río Negro        Provincia   \n",
       "20                          Provincia de Buenos Aires        Provincia   \n",
       "21                            Provincia de Corrientes        Provincia   \n",
       "22                              Provincia de Misiones        Provincia   \n",
       "23                                 Provincia de Salta        Provincia   \n",
       "\n",
       "                                                  NAM  SAG        FDC IN1  \\\n",
       "0                     Ciudad Autónoma de Buenos Aires  IGN  Geografía  02   \n",
       "1                                             Neuquén  IGN  Geografía  58   \n",
       "2                                            La Pampa  IGN  Geografía  42   \n",
       "3                                             Mendoza  IGN  Geografía  50   \n",
       "4                                            San Luis  IGN  Geografía  74   \n",
       "5                                             Córdoba  IGN  Geografía  14   \n",
       "6                                            Santa Fe  IGN  Geografía  82   \n",
       "7                                          Entre Ríos  IGN  Geografía  30   \n",
       "8                                            San Juan  IGN  Geografía  70   \n",
       "9                                            La Rioja  IGN  Geografía  46   \n",
       "10                                          Catamarca  IGN  Geografía  10   \n",
       "11                                            Tucumán  IGN  Geografía  90   \n",
       "12                                              Jujuy  IGN  Geografía  38   \n",
       "13                                              Chaco  IGN  Geografía  22   \n",
       "14                                            Formosa  IGN  Geografía  34   \n",
       "15                                Santiago del Estero  IGN  Geografía  86   \n",
       "16  Tierra del Fuego, Antártida e Islas del Atlánt...  IGN  Geografía  94   \n",
       "17                                         Santa Cruz  IGN  Geografía  78   \n",
       "18                                             Chubut  IGN  Geografía  26   \n",
       "19                                          Río Negro  IGN  Geografía  62   \n",
       "20                                       Buenos Aires  IGN  Geografía  06   \n",
       "21                                         Corrientes  IGN  Geografía  18   \n",
       "22                                           Misiones  IGN  Geografía  54   \n",
       "23                                              Salta  IGN  Geografía  66   \n",
       "\n",
       "    SHAPE_STAr  SHAPE_STLe                                           geometry  \n",
       "0     0.020242    0.743806  POLYGON Z ((-58.34189 -34.63110 0.00000, -58.3...  \n",
       "1     9.771811   21.515985  POLYGON Z ((-70.39345 -36.15526 0.00000, -70.3...  \n",
       "2    14.553019   19.665614  MULTIPOLYGON Z (((-64.76547 -40.78351 0.00000,...  \n",
       "3    14.658388   23.259986  POLYGON Z ((-69.12570 -32.00283 0.00000, -69.1...  \n",
       "4     7.333771   14.490196  POLYGON Z ((-67.05547 -31.85605 0.00000, -67.0...  \n",
       "5    15.748328   18.453115  POLYGON Z ((-63.87035 -29.62387 0.00000, -63.8...  \n",
       "6    12.552838   20.852280  POLYGON Z ((-60.27271 -33.26386 0.00000, -60.2...  \n",
       "7     7.486487   14.359091  POLYGON Z ((-58.58138 -30.16010 0.00000, -58.5...  \n",
       "8     8.328441   19.445606  POLYGON Z ((-69.62981 -28.39369 0.00000, -69.6...  \n",
       "9     8.529216   16.426132  POLYGON Z ((-68.52083 -27.81988 0.00000, -68.5...  \n",
       "10    9.256945   21.706082  POLYGON Z ((-68.10862 -25.21178 0.00000, -68.1...  \n",
       "11    2.053388    8.403373  POLYGON Z ((-65.35915 -26.05944 0.00000, -65.3...  \n",
       "12    4.700836   13.894755  POLYGON Z ((-65.18657 -22.08535 0.00000, -65.1...  \n",
       "13    9.024889   19.239419  POLYGON Z ((-62.24919 -24.14075 0.00000, -62.2...  \n",
       "14    6.745721   21.849711  POLYGON Z ((-62.31201 -22.48666 0.00000, -62.3...  \n",
       "15   12.540224   16.353091  POLYGON Z ((-62.04553 -25.65357 0.00000, -62.0...  \n",
       "16  566.267612  749.983159  MULTIPOLYGON Z (((-25.00000 -75.87687 0.00000,...  \n",
       "17   29.943876   40.835553  MULTIPOLYGON Z (((-69.41581 -51.08958 0.00000,...  \n",
       "18   25.085834   38.837945  MULTIPOLYGON Z (((-66.69852 -45.24747 0.00000,...  \n",
       "19   21.451137   30.997274  POLYGON Z ((-68.23910 -37.58496 0.00000, -68.2...  \n",
       "20   30.805998   34.035576  POLYGON Z ((-60.27237 -33.26349 0.00000, -60.2...  \n",
       "21    8.235679   20.594672  MULTIPOLYGON Z (((-56.86162 -27.59213 0.00000,...  \n",
       "22    2.717002   13.315559  MULTIPOLYGON Z (((-53.67370 -26.33224 0.00000,...  \n",
       "23   13.817805   30.275950  POLYGON Z ((-62.34230 -22.46084 0.00000, -62.3...  "
      ]
     },
     "execution_count": 109,
     "metadata": {},
     "output_type": "execute_result"
    }
   ],
   "source": [
    "#Importamos un mapamundi de ARG para utilizar con GeoPandas\n",
    "mapamundi=gpd.GeoDataFrame.from_file(r'/Users/ramiropaz/Library/Containers/com.microsoft.Excel/Data/Desktop/Data Science/Trabajo Final Cluster AI/ign_provincia.shp')\n",
    "mapamundi"
   ]
  },
  {
   "cell_type": "code",
   "execution_count": 110,
   "metadata": {},
   "outputs": [
    {
     "data": {
      "text/plain": [
       "(24, 12)"
      ]
     },
     "execution_count": 110,
     "metadata": {},
     "output_type": "execute_result"
    }
   ],
   "source": [
    "np.shape(mapamundi)"
   ]
  },
  {
   "cell_type": "markdown",
   "metadata": {},
   "source": [
    "## DataSet Elegido"
   ]
  },
  {
   "cell_type": "markdown",
   "metadata": {},
   "source": [
    "El dataset elegido se encuentra en el siguiente enlace: \n",
    "\n",
    "https://datos.gob.ar/dataset/desarrollo-social-titulares-tarjeta-alimentar/archivo/desarrollo-social_243dcc53-9a4f-4abf-8d4d-ea6a36167f93\n",
    "\n",
    "El mismo pertenece a los datos abiertos del gobierno nacional. "
   ]
  },
  {
   "cell_type": "code",
   "execution_count": 111,
   "metadata": {},
   "outputs": [],
   "source": [
    "alimentar = pd.read_csv ('/Users/ramiropaz/Library/Containers/com.microsoft.Excel/Data/Desktop/Data Science/Trabajo Final Cluster AI/Titulares_Tarjeta_Alimentar-20200909.csv')\n",
    "poblacion = pd.read_csv('/Users/ramiropaz/Library/Containers/com.microsoft.Excel/Data/Desktop/Data Science/Trabajo Final Cluster AI/Poblacion.csv')\n",
    "incidencia = pd.read_csv('/Users/ramiropaz/Library/Containers/com.microsoft.Excel/Data/Desktop/Data Science/Trabajo Final Cluster AI/incidencia.csv')"
   ]
  },
  {
   "cell_type": "code",
   "execution_count": 112,
   "metadata": {
    "scrolled": true
   },
   "outputs": [
    {
     "name": "stdout",
     "output_type": "stream",
     "text": [
      "Filas: 1048575\n",
      "Columnas:10\r\n",
      "\n",
      "Esta sería la base de datos:\n"
     ]
    },
    {
     "data": {
      "text/html": [
       "<div>\n",
       "<style scoped>\n",
       "    .dataframe tbody tr th:only-of-type {\n",
       "        vertical-align: middle;\n",
       "    }\n",
       "\n",
       "    .dataframe tbody tr th {\n",
       "        vertical-align: top;\n",
       "    }\n",
       "\n",
       "    .dataframe thead th {\n",
       "        text-align: right;\n",
       "    }\n",
       "</style>\n",
       "<table border=\"1\" class=\"dataframe\">\n",
       "  <thead>\n",
       "    <tr style=\"text-align: right;\">\n",
       "      <th></th>\n",
       "      <th>id_persona</th>\n",
       "      <th>sexo</th>\n",
       "      <th>codigo_indec_provincia</th>\n",
       "      <th>provincia</th>\n",
       "      <th>codigo_indec_departamento</th>\n",
       "      <th>departamento</th>\n",
       "      <th>fecha_alta</th>\n",
       "      <th>fecha_baja</th>\n",
       "      <th>monto_mensual</th>\n",
       "      <th>meses_liquidados</th>\n",
       "    </tr>\n",
       "  </thead>\n",
       "  <tbody>\n",
       "    <tr>\n",
       "      <th>0</th>\n",
       "      <td>6980F581-4E89-49FF-BC5F-70FBEFF94F9D</td>\n",
       "      <td>F</td>\n",
       "      <td>6</td>\n",
       "      <td>Buenos Aires</td>\n",
       "      <td>6434</td>\n",
       "      <td>Lanús</td>\n",
       "      <td>5/1/20</td>\n",
       "      <td>NaN</td>\n",
       "      <td>4000</td>\n",
       "      <td>5</td>\n",
       "    </tr>\n",
       "    <tr>\n",
       "      <th>1</th>\n",
       "      <td>890A770A-8EA6-4458-96BD-1DF39C7E3C1E</td>\n",
       "      <td>M</td>\n",
       "      <td>6</td>\n",
       "      <td>Buenos Aires</td>\n",
       "      <td>6260</td>\n",
       "      <td>Esteban Echeverría</td>\n",
       "      <td>5/1/20</td>\n",
       "      <td>NaN</td>\n",
       "      <td>4000</td>\n",
       "      <td>5</td>\n",
       "    </tr>\n",
       "    <tr>\n",
       "      <th>2</th>\n",
       "      <td>313C4CA6-282A-4383-8CDE-4221CA51A35B</td>\n",
       "      <td>F</td>\n",
       "      <td>6</td>\n",
       "      <td>Buenos Aires</td>\n",
       "      <td>6749</td>\n",
       "      <td>San Fernando</td>\n",
       "      <td>5/1/20</td>\n",
       "      <td>NaN</td>\n",
       "      <td>4000</td>\n",
       "      <td>5</td>\n",
       "    </tr>\n",
       "    <tr>\n",
       "      <th>3</th>\n",
       "      <td>8C3EF971-23BF-4E23-8A39-A6B66123797B</td>\n",
       "      <td>F</td>\n",
       "      <td>18</td>\n",
       "      <td>Corrientes</td>\n",
       "      <td>18042</td>\n",
       "      <td>Empedrado</td>\n",
       "      <td>5/1/20</td>\n",
       "      <td>NaN</td>\n",
       "      <td>4000</td>\n",
       "      <td>5</td>\n",
       "    </tr>\n",
       "    <tr>\n",
       "      <th>4</th>\n",
       "      <td>D18919D7-7488-43B1-97BB-4D3CE070C5AC</td>\n",
       "      <td>F</td>\n",
       "      <td>82</td>\n",
       "      <td>Santa Fe</td>\n",
       "      <td>82119</td>\n",
       "      <td>San Lorenzo</td>\n",
       "      <td>5/1/20</td>\n",
       "      <td>NaN</td>\n",
       "      <td>4000</td>\n",
       "      <td>5</td>\n",
       "    </tr>\n",
       "  </tbody>\n",
       "</table>\n",
       "</div>"
      ],
      "text/plain": [
       "                             id_persona sexo  codigo_indec_provincia  \\\n",
       "0  6980F581-4E89-49FF-BC5F-70FBEFF94F9D    F                       6   \n",
       "1  890A770A-8EA6-4458-96BD-1DF39C7E3C1E    M                       6   \n",
       "2  313C4CA6-282A-4383-8CDE-4221CA51A35B    F                       6   \n",
       "3  8C3EF971-23BF-4E23-8A39-A6B66123797B    F                      18   \n",
       "4  D18919D7-7488-43B1-97BB-4D3CE070C5AC    F                      82   \n",
       "\n",
       "      provincia  codigo_indec_departamento        departamento fecha_alta  \\\n",
       "0  Buenos Aires                       6434               Lanús     5/1/20   \n",
       "1  Buenos Aires                       6260  Esteban Echeverría     5/1/20   \n",
       "2  Buenos Aires                       6749        San Fernando     5/1/20   \n",
       "3    Corrientes                      18042           Empedrado     5/1/20   \n",
       "4      Santa Fe                      82119         San Lorenzo     5/1/20   \n",
       "\n",
       "   fecha_baja  monto_mensual  meses_liquidados  \n",
       "0         NaN           4000                 5  \n",
       "1         NaN           4000                 5  \n",
       "2         NaN           4000                 5  \n",
       "3         NaN           4000                 5  \n",
       "4         NaN           4000                 5  "
      ]
     },
     "execution_count": 112,
     "metadata": {},
     "output_type": "execute_result"
    }
   ],
   "source": [
    "filas = np.shape(alimentar)[0]\n",
    "print(f'Filas: {filas}')\n",
    "\n",
    "columnas = np.shape(alimentar)[1]\n",
    "print(f'Columnas:{columnas}\\r\\n')\n",
    "\n",
    "print('Esta sería la base de datos:')\n",
    "alimentar.head(5)"
   ]
  },
  {
   "cell_type": "markdown",
   "metadata": {},
   "source": [
    "## Limpieza de Datos"
   ]
  },
  {
   "cell_type": "markdown",
   "metadata": {},
   "source": [
    "Se procederá a limpiar los datos de la base. Vamos a analizar:\n",
    "\n",
    "Duplicados\n",
    "\n",
    "Valores Nulos (NaN's)\n",
    "\n",
    "Reemplazo de valores\n",
    "\n",
    "En todos los casos de verá si aplicá hacer el ejercicio o no"
   ]
  },
  {
   "cell_type": "code",
   "execution_count": 113,
   "metadata": {},
   "outputs": [
    {
     "data": {
      "text/html": [
       "<div>\n",
       "<style scoped>\n",
       "    .dataframe tbody tr th:only-of-type {\n",
       "        vertical-align: middle;\n",
       "    }\n",
       "\n",
       "    .dataframe tbody tr th {\n",
       "        vertical-align: top;\n",
       "    }\n",
       "\n",
       "    .dataframe thead th {\n",
       "        text-align: right;\n",
       "    }\n",
       "</style>\n",
       "<table border=\"1\" class=\"dataframe\">\n",
       "  <thead>\n",
       "    <tr style=\"text-align: right;\">\n",
       "      <th></th>\n",
       "      <th>id_persona</th>\n",
       "      <th>sexo</th>\n",
       "      <th>codigo_indec_provincia</th>\n",
       "      <th>provincia</th>\n",
       "      <th>codigo_indec_departamento</th>\n",
       "      <th>departamento</th>\n",
       "      <th>fecha_alta</th>\n",
       "      <th>fecha_baja</th>\n",
       "      <th>monto_mensual</th>\n",
       "      <th>meses_liquidados</th>\n",
       "    </tr>\n",
       "  </thead>\n",
       "  <tbody>\n",
       "    <tr>\n",
       "      <th>0</th>\n",
       "      <td>6980F581-4E89-49FF-BC5F-70FBEFF94F9D</td>\n",
       "      <td>F</td>\n",
       "      <td>6</td>\n",
       "      <td>Buenos Aires</td>\n",
       "      <td>6434</td>\n",
       "      <td>Lanús</td>\n",
       "      <td>5/1/20</td>\n",
       "      <td>NaN</td>\n",
       "      <td>4000</td>\n",
       "      <td>5</td>\n",
       "    </tr>\n",
       "    <tr>\n",
       "      <th>1</th>\n",
       "      <td>890A770A-8EA6-4458-96BD-1DF39C7E3C1E</td>\n",
       "      <td>M</td>\n",
       "      <td>6</td>\n",
       "      <td>Buenos Aires</td>\n",
       "      <td>6260</td>\n",
       "      <td>Esteban Echeverría</td>\n",
       "      <td>5/1/20</td>\n",
       "      <td>NaN</td>\n",
       "      <td>4000</td>\n",
       "      <td>5</td>\n",
       "    </tr>\n",
       "    <tr>\n",
       "      <th>2</th>\n",
       "      <td>313C4CA6-282A-4383-8CDE-4221CA51A35B</td>\n",
       "      <td>F</td>\n",
       "      <td>6</td>\n",
       "      <td>Buenos Aires</td>\n",
       "      <td>6749</td>\n",
       "      <td>San Fernando</td>\n",
       "      <td>5/1/20</td>\n",
       "      <td>NaN</td>\n",
       "      <td>4000</td>\n",
       "      <td>5</td>\n",
       "    </tr>\n",
       "    <tr>\n",
       "      <th>3</th>\n",
       "      <td>8C3EF971-23BF-4E23-8A39-A6B66123797B</td>\n",
       "      <td>F</td>\n",
       "      <td>18</td>\n",
       "      <td>Corrientes</td>\n",
       "      <td>18042</td>\n",
       "      <td>Empedrado</td>\n",
       "      <td>5/1/20</td>\n",
       "      <td>NaN</td>\n",
       "      <td>4000</td>\n",
       "      <td>5</td>\n",
       "    </tr>\n",
       "    <tr>\n",
       "      <th>4</th>\n",
       "      <td>D18919D7-7488-43B1-97BB-4D3CE070C5AC</td>\n",
       "      <td>F</td>\n",
       "      <td>82</td>\n",
       "      <td>Santa Fe</td>\n",
       "      <td>82119</td>\n",
       "      <td>San Lorenzo</td>\n",
       "      <td>5/1/20</td>\n",
       "      <td>NaN</td>\n",
       "      <td>4000</td>\n",
       "      <td>5</td>\n",
       "    </tr>\n",
       "  </tbody>\n",
       "</table>\n",
       "</div>"
      ],
      "text/plain": [
       "                             id_persona sexo  codigo_indec_provincia  \\\n",
       "0  6980F581-4E89-49FF-BC5F-70FBEFF94F9D    F                       6   \n",
       "1  890A770A-8EA6-4458-96BD-1DF39C7E3C1E    M                       6   \n",
       "2  313C4CA6-282A-4383-8CDE-4221CA51A35B    F                       6   \n",
       "3  8C3EF971-23BF-4E23-8A39-A6B66123797B    F                      18   \n",
       "4  D18919D7-7488-43B1-97BB-4D3CE070C5AC    F                      82   \n",
       "\n",
       "      provincia  codigo_indec_departamento        departamento fecha_alta  \\\n",
       "0  Buenos Aires                       6434               Lanús     5/1/20   \n",
       "1  Buenos Aires                       6260  Esteban Echeverría     5/1/20   \n",
       "2  Buenos Aires                       6749        San Fernando     5/1/20   \n",
       "3    Corrientes                      18042           Empedrado     5/1/20   \n",
       "4      Santa Fe                      82119         San Lorenzo     5/1/20   \n",
       "\n",
       "   fecha_baja  monto_mensual  meses_liquidados  \n",
       "0         NaN           4000                 5  \n",
       "1         NaN           4000                 5  \n",
       "2         NaN           4000                 5  \n",
       "3         NaN           4000                 5  \n",
       "4         NaN           4000                 5  "
      ]
     },
     "execution_count": 113,
     "metadata": {},
     "output_type": "execute_result"
    }
   ],
   "source": [
    "#Eliminar registros de personas duplicadas, si los hubiera\n",
    "alimentar.drop_duplicates(subset=['id_persona'],keep='last')\n",
    "alimentar.head(5)"
   ]
  },
  {
   "cell_type": "code",
   "execution_count": 114,
   "metadata": {},
   "outputs": [
    {
     "name": "stdout",
     "output_type": "stream",
     "text": [
      "Filas:1048575\r\n",
      "\n",
      "se observa el mismo número de filas, por lo que los registros de usuarios son únicos en el dataset\n"
     ]
    }
   ],
   "source": [
    "filas2 = np.shape(alimentar)[0]\n",
    "print (f'Filas:{filas2}\\r\\n')\n",
    "print('se observa el mismo número de filas, por lo que los registros de usuarios son únicos en el dataset')"
   ]
  },
  {
   "cell_type": "code",
   "execution_count": 115,
   "metadata": {},
   "outputs": [
    {
     "name": "stdout",
     "output_type": "stream",
     "text": [
      "id_persona                   False\n",
      "sexo                         False\n",
      "codigo_indec_provincia       False\n",
      "provincia                    False\n",
      "codigo_indec_departamento    False\n",
      "departamento                 False\n",
      "fecha_alta                   False\n",
      "fecha_baja                    True\n",
      "monto_mensual                False\n",
      "meses_liquidados             False\n",
      "dtype: bool \r\n",
      "\n",
      "solo la columna ¨fecha_baja¨ contiene valores nulos\n"
     ]
    }
   ],
   "source": [
    "#Analizar los posibles NaN's del dataset y entender que hacer con ellos\n",
    "col_NaN = alimentar.isnull().any()\n",
    "print (col_NaN,'\\r\\n')\n",
    "print('solo la columna ¨fecha_baja¨ contiene valores nulos')"
   ]
  },
  {
   "cell_type": "code",
   "execution_count": 116,
   "metadata": {},
   "outputs": [
    {
     "name": "stdout",
     "output_type": "stream",
     "text": [
      "id_persona                         0\n",
      "sexo                               0\n",
      "codigo_indec_provincia             0\n",
      "provincia                          0\n",
      "codigo_indec_departamento          0\n",
      "departamento                       0\n",
      "fecha_alta                         0\n",
      "fecha_baja                   1048575\n",
      "monto_mensual                      0\n",
      "meses_liquidados                   0\n",
      "dtype: int64 \r\n",
      "\n",
      "todos los valores de la columna ¨fecha baja¨ son nulos\n"
     ]
    }
   ],
   "source": [
    "#Cantidad de valores nulos contenidos en la columna 'fecha_baja'\n",
    "total_NaN = alimentar.isnull().sum()\n",
    "print(total_NaN,'\\r\\n')\n",
    "print ('todos los valores de la columna ¨fecha baja¨ son nulos')"
   ]
  },
  {
   "cell_type": "code",
   "execution_count": 117,
   "metadata": {},
   "outputs": [],
   "source": [
    "#Borramos columna 'fecha_baja', dado que no es útil para el análisis. Se infiere que todos los registros únicos de personas no se bajaron del programa\n",
    "alimentar.dropna(axis = 'columns',how = 'all',inplace = True)"
   ]
  },
  {
   "cell_type": "code",
   "execution_count": 118,
   "metadata": {},
   "outputs": [
    {
     "name": "stdout",
     "output_type": "stream",
     "text": [
      "Nos quedamos con un dataframe de 1048575 filas x 9 columnas\n"
     ]
    }
   ],
   "source": [
    "# Verificamos como quedo el dataset\n",
    "print(f'Nos quedamos con un dataframe de {alimentar.shape[0]} filas x {alimentar.shape[1]} columnas')"
   ]
  },
  {
   "cell_type": "code",
   "execution_count": 119,
   "metadata": {},
   "outputs": [
    {
     "data": {
      "text/html": [
       "<div>\n",
       "<style scoped>\n",
       "    .dataframe tbody tr th:only-of-type {\n",
       "        vertical-align: middle;\n",
       "    }\n",
       "\n",
       "    .dataframe tbody tr th {\n",
       "        vertical-align: top;\n",
       "    }\n",
       "\n",
       "    .dataframe thead th {\n",
       "        text-align: right;\n",
       "    }\n",
       "</style>\n",
       "<table border=\"1\" class=\"dataframe\">\n",
       "  <thead>\n",
       "    <tr style=\"text-align: right;\">\n",
       "      <th></th>\n",
       "      <th>id_persona</th>\n",
       "      <th>sexo</th>\n",
       "      <th>codigo_indec_provincia</th>\n",
       "      <th>provincia</th>\n",
       "      <th>codigo_indec_departamento</th>\n",
       "      <th>departamento</th>\n",
       "      <th>fecha_alta</th>\n",
       "      <th>monto_mensual</th>\n",
       "      <th>meses_liquidados</th>\n",
       "    </tr>\n",
       "  </thead>\n",
       "  <tbody>\n",
       "    <tr>\n",
       "      <th>0</th>\n",
       "      <td>6980F581-4E89-49FF-BC5F-70FBEFF94F9D</td>\n",
       "      <td>F</td>\n",
       "      <td>6</td>\n",
       "      <td>Buenos Aires</td>\n",
       "      <td>6434</td>\n",
       "      <td>Lanús</td>\n",
       "      <td>5/1/20</td>\n",
       "      <td>4000</td>\n",
       "      <td>5</td>\n",
       "    </tr>\n",
       "    <tr>\n",
       "      <th>1</th>\n",
       "      <td>890A770A-8EA6-4458-96BD-1DF39C7E3C1E</td>\n",
       "      <td>M</td>\n",
       "      <td>6</td>\n",
       "      <td>Buenos Aires</td>\n",
       "      <td>6260</td>\n",
       "      <td>Esteban Echeverría</td>\n",
       "      <td>5/1/20</td>\n",
       "      <td>4000</td>\n",
       "      <td>5</td>\n",
       "    </tr>\n",
       "    <tr>\n",
       "      <th>2</th>\n",
       "      <td>313C4CA6-282A-4383-8CDE-4221CA51A35B</td>\n",
       "      <td>F</td>\n",
       "      <td>6</td>\n",
       "      <td>Buenos Aires</td>\n",
       "      <td>6749</td>\n",
       "      <td>San Fernando</td>\n",
       "      <td>5/1/20</td>\n",
       "      <td>4000</td>\n",
       "      <td>5</td>\n",
       "    </tr>\n",
       "    <tr>\n",
       "      <th>3</th>\n",
       "      <td>8C3EF971-23BF-4E23-8A39-A6B66123797B</td>\n",
       "      <td>F</td>\n",
       "      <td>18</td>\n",
       "      <td>Corrientes</td>\n",
       "      <td>18042</td>\n",
       "      <td>Empedrado</td>\n",
       "      <td>5/1/20</td>\n",
       "      <td>4000</td>\n",
       "      <td>5</td>\n",
       "    </tr>\n",
       "    <tr>\n",
       "      <th>4</th>\n",
       "      <td>D18919D7-7488-43B1-97BB-4D3CE070C5AC</td>\n",
       "      <td>F</td>\n",
       "      <td>82</td>\n",
       "      <td>Santa Fe</td>\n",
       "      <td>82119</td>\n",
       "      <td>San Lorenzo</td>\n",
       "      <td>5/1/20</td>\n",
       "      <td>4000</td>\n",
       "      <td>5</td>\n",
       "    </tr>\n",
       "  </tbody>\n",
       "</table>\n",
       "</div>"
      ],
      "text/plain": [
       "                             id_persona sexo  codigo_indec_provincia  \\\n",
       "0  6980F581-4E89-49FF-BC5F-70FBEFF94F9D    F                       6   \n",
       "1  890A770A-8EA6-4458-96BD-1DF39C7E3C1E    M                       6   \n",
       "2  313C4CA6-282A-4383-8CDE-4221CA51A35B    F                       6   \n",
       "3  8C3EF971-23BF-4E23-8A39-A6B66123797B    F                      18   \n",
       "4  D18919D7-7488-43B1-97BB-4D3CE070C5AC    F                      82   \n",
       "\n",
       "      provincia  codigo_indec_departamento        departamento fecha_alta  \\\n",
       "0  Buenos Aires                       6434               Lanús     5/1/20   \n",
       "1  Buenos Aires                       6260  Esteban Echeverría     5/1/20   \n",
       "2  Buenos Aires                       6749        San Fernando     5/1/20   \n",
       "3    Corrientes                      18042           Empedrado     5/1/20   \n",
       "4      Santa Fe                      82119         San Lorenzo     5/1/20   \n",
       "\n",
       "   monto_mensual  meses_liquidados  \n",
       "0           4000                 5  \n",
       "1           4000                 5  \n",
       "2           4000                 5  \n",
       "3           4000                 5  \n",
       "4           4000                 5  "
      ]
     },
     "execution_count": 119,
     "metadata": {},
     "output_type": "execute_result"
    }
   ],
   "source": [
    "alimentar.head(5)"
   ]
  },
  {
   "cell_type": "code",
   "execution_count": 120,
   "metadata": {},
   "outputs": [],
   "source": [
    "#Pasamos los valores númericos a float\n",
    "alimentar['monto_mensual'] = alimentar['monto_mensual'].astype(float)\n",
    "alimentar['meses_liquidados'] = alimentar['meses_liquidados'].astype(float)\n",
    "alimentar['fecha_alta'] = pd.to_datetime(alimentar['fecha_alta'])"
   ]
  },
  {
   "cell_type": "code",
   "execution_count": 121,
   "metadata": {},
   "outputs": [],
   "source": [
    "#Creamos la columna que se llame 'Monto Total', ya que la columna 'monto_liquidado' es por mes individual\n",
    "alimentar['total_liquidado']=alimentar['monto_mensual']*alimentar['meses_liquidados']"
   ]
  },
  {
   "cell_type": "code",
   "execution_count": 122,
   "metadata": {},
   "outputs": [
    {
     "data": {
      "text/html": [
       "<div>\n",
       "<style scoped>\n",
       "    .dataframe tbody tr th:only-of-type {\n",
       "        vertical-align: middle;\n",
       "    }\n",
       "\n",
       "    .dataframe tbody tr th {\n",
       "        vertical-align: top;\n",
       "    }\n",
       "\n",
       "    .dataframe thead th {\n",
       "        text-align: right;\n",
       "    }\n",
       "</style>\n",
       "<table border=\"1\" class=\"dataframe\">\n",
       "  <thead>\n",
       "    <tr style=\"text-align: right;\">\n",
       "      <th></th>\n",
       "      <th>id_persona</th>\n",
       "      <th>sexo</th>\n",
       "      <th>codigo_indec_provincia</th>\n",
       "      <th>provincia</th>\n",
       "      <th>codigo_indec_departamento</th>\n",
       "      <th>departamento</th>\n",
       "      <th>fecha_alta</th>\n",
       "      <th>monto_mensual</th>\n",
       "      <th>meses_liquidados</th>\n",
       "      <th>total_liquidado</th>\n",
       "    </tr>\n",
       "  </thead>\n",
       "  <tbody>\n",
       "    <tr>\n",
       "      <th>0</th>\n",
       "      <td>6980F581-4E89-49FF-BC5F-70FBEFF94F9D</td>\n",
       "      <td>F</td>\n",
       "      <td>6</td>\n",
       "      <td>Buenos Aires</td>\n",
       "      <td>6434</td>\n",
       "      <td>Lanús</td>\n",
       "      <td>2020-05-01</td>\n",
       "      <td>4000.0</td>\n",
       "      <td>5.0</td>\n",
       "      <td>20000.0</td>\n",
       "    </tr>\n",
       "    <tr>\n",
       "      <th>1</th>\n",
       "      <td>890A770A-8EA6-4458-96BD-1DF39C7E3C1E</td>\n",
       "      <td>M</td>\n",
       "      <td>6</td>\n",
       "      <td>Buenos Aires</td>\n",
       "      <td>6260</td>\n",
       "      <td>Esteban Echeverría</td>\n",
       "      <td>2020-05-01</td>\n",
       "      <td>4000.0</td>\n",
       "      <td>5.0</td>\n",
       "      <td>20000.0</td>\n",
       "    </tr>\n",
       "    <tr>\n",
       "      <th>2</th>\n",
       "      <td>313C4CA6-282A-4383-8CDE-4221CA51A35B</td>\n",
       "      <td>F</td>\n",
       "      <td>6</td>\n",
       "      <td>Buenos Aires</td>\n",
       "      <td>6749</td>\n",
       "      <td>San Fernando</td>\n",
       "      <td>2020-05-01</td>\n",
       "      <td>4000.0</td>\n",
       "      <td>5.0</td>\n",
       "      <td>20000.0</td>\n",
       "    </tr>\n",
       "  </tbody>\n",
       "</table>\n",
       "</div>"
      ],
      "text/plain": [
       "                             id_persona sexo  codigo_indec_provincia  \\\n",
       "0  6980F581-4E89-49FF-BC5F-70FBEFF94F9D    F                       6   \n",
       "1  890A770A-8EA6-4458-96BD-1DF39C7E3C1E    M                       6   \n",
       "2  313C4CA6-282A-4383-8CDE-4221CA51A35B    F                       6   \n",
       "\n",
       "      provincia  codigo_indec_departamento        departamento fecha_alta  \\\n",
       "0  Buenos Aires                       6434               Lanús 2020-05-01   \n",
       "1  Buenos Aires                       6260  Esteban Echeverría 2020-05-01   \n",
       "2  Buenos Aires                       6749        San Fernando 2020-05-01   \n",
       "\n",
       "   monto_mensual  meses_liquidados  total_liquidado  \n",
       "0         4000.0               5.0          20000.0  \n",
       "1         4000.0               5.0          20000.0  \n",
       "2         4000.0               5.0          20000.0  "
      ]
     },
     "execution_count": 122,
     "metadata": {},
     "output_type": "execute_result"
    }
   ],
   "source": [
    "alimentar.head(3)"
   ]
  },
  {
   "cell_type": "markdown",
   "metadata": {},
   "source": [
    "## Análisis Categorías "
   ]
  },
  {
   "cell_type": "code",
   "execution_count": 123,
   "metadata": {},
   "outputs": [
    {
     "data": {
      "image/png": "[encoded data removed]",
      "text/plain": [
       "<Figure size 720x360 with 1 Axes>"
      ]
     },
     "metadata": {
      "needs_background": "light"
     },
     "output_type": "display_data"
    }
   ],
   "source": [
    "#Veremos cual es la cantidad de M y F que tenemos en la base de datos, según la columna 'sexo'\n",
    "plt.figure(figsize=(10,5))\n",
    "sns.countplot(x=\"sexo\", data=alimentar,palette = \"Set2\")\n",
    "plt.title('Cantidad de M y F', size = 20)\n",
    "plt.xlabel(\"Categoria\", size = 15)\n",
    "plt.ylabel(\"Cantidades\", size = 15)\n",
    "plt.show()\n"
   ]
  },
  {
   "cell_type": "code",
   "execution_count": 124,
   "metadata": {},
   "outputs": [
    {
     "data": {
      "text/plain": [
       "F    997652\n",
       "M     50923\n",
       "Name: sexo, dtype: int64"
      ]
     },
     "execution_count": 124,
     "metadata": {},
     "output_type": "execute_result"
    }
   ],
   "source": [
    "#Vemos la cantidad de M y F que hay exacto según el gráfico de columnas\n",
    "serie = pd.Series(alimentar.sexo)\n",
    "serie.value_counts()"
   ]
  },
  {
   "cell_type": "code",
   "execution_count": 125,
   "metadata": {},
   "outputs": [
    {
     "data": {
      "image/png": "[encoded data removed]",
      "text/plain": [
       "<Figure size 432x288 with 1 Axes>"
      ]
     },
     "metadata": {},
     "output_type": "display_data"
    }
   ],
   "source": [
    "#En base a estos datos, vemos un gràfico de torta, para ver su porcentaje \n",
    "nombres='F','M'\n",
    "cantidad=[1457674,72479]\n",
    "desfase=(0,0.5)\n",
    "plt.pie(cantidad,labels=nombres,autopct=\"%0.1f %%\",explode=desfase)\n",
    "plt.axis(\"equal\")\n",
    "plt.show()"
   ]
  },
  {
   "cell_type": "markdown",
   "metadata": {},
   "source": [
    "Lo primero que podemos observar es que predomina el sexo Femenino en el dataset. El 95% de las personas que piden este plan son mujeres."
   ]
  },
  {
   "cell_type": "code",
   "execution_count": 126,
   "metadata": {},
   "outputs": [
    {
     "data": {
      "text/plain": [
       "Buenos Aires              227589\n",
       "Córdoba                   116970\n",
       "Santa Fe                   82640\n",
       "Tucumán                    70860\n",
       "Mendoza                    69379\n",
       "Misiones                   63616\n",
       "Santiago del Estero        52793\n",
       "Corrientes                 52467\n",
       "Ciudad de Buenos Aires     41077\n",
       "Entre Ríos                 37931\n",
       "San Juan                   33280\n",
       "Formosa                    32489\n",
       "Jujuy                      31648\n",
       "Río Negro                  20293\n",
       "San Luis                   16872\n",
       "Catamarca                  16674\n",
       "Neuquén                    16305\n",
       "La Rioja                   15357\n",
       "Chubut                     12756\n",
       "La Pampa                   10289\n",
       "Santa Cruz                  9530\n",
       "Chaco                       7454\n",
       "Salta                       6880\n",
       "Tierra del Fuego            3426\n",
       "Name: provincia, dtype: int64"
      ]
     },
     "execution_count": 126,
     "metadata": {},
     "output_type": "execute_result"
    }
   ],
   "source": [
    "#Ahora analizaremos la incidencia de las provincias en el plan AlimentAR\n",
    "serie = pd.Series(alimentar.provincia)\n",
    "serie.value_counts()"
   ]
  },
  {
   "cell_type": "code",
   "execution_count": 136,
   "metadata": {},
   "outputs": [
    {
     "data": {
      "image/png": "[encoded data removed]",
      "text/plain": [
       "<Figure size 1440x432 with 1 Axes>"
      ]
     },
     "metadata": {
      "needs_background": "light"
     },
     "output_type": "display_data"
    }
   ],
   "source": [
    "#Gráficamos la tabla anterior, mostrando las provincias en un gráfico de columnas\n",
    "top_n = 24\n",
    "idx_top = alimentar['provincia'].value_counts(ascending=False).index[0:top_n]\n",
    "\n",
    "plt.figure(figsize=(20,6))\n",
    "g=sns.countplot(x=\"provincia\", data=alimentar,order=idx_top,palette = \"muted\")\n",
    "g.set_xticklabels(g.get_xticklabels(), rotation=90, ha=\"right\")\n",
    "plt.title('Planes por Provincia', size = 20)\n",
    "plt.xlabel(\"Provincia\", size = 15)\n",
    "plt.ylabel(\"Cantidades\", size = 15)\n",
    "plt.show()"
   ]
  },
  {
   "cell_type": "code",
   "execution_count": 135,
   "metadata": {},
   "outputs": [
    {
     "data": {
      "image/png": "[encoded data removed]",
      "text/plain": [
       "<Figure size 1440x432 with 1 Axes>"
      ]
     },
     "metadata": {
      "needs_background": "light"
     },
     "output_type": "display_data"
    }
   ],
   "source": [
    "#Siguiendo la línea de análisis general, vamos a ver un top 15 de departamentos que solicitan el plan AlimentAR\n",
    "top_n = 15\n",
    "idx_top = alimentar['departamento'].value_counts(ascending=False).index[0:top_n]\n",
    "\n",
    "plt.figure(figsize=(20,6))\n",
    "g=sns.countplot(x=\"departamento\", data=alimentar,order=idx_top,palette = \"muted\")\n",
    "g.set_xticklabels(g.get_xticklabels(), rotation=90, ha=\"right\")\n",
    "plt.title('Planes por Departamento', size = 20)\n",
    "plt.xlabel(\"Departamento\", size = 15)\n",
    "plt.ylabel(\"Cantidades\", size = 15)\n",
    "plt.show()"
   ]
  },
  {
   "cell_type": "markdown",
   "metadata": {},
   "source": [
    "Se observa que 'La Capital' es un valor muy similar a 'Capital'. Vamos a juntar todo en concepto 'Capital', haciendo referencia a las capitales de las provincias de Argentina"
   ]
  },
  {
   "cell_type": "code",
   "execution_count": 129,
   "metadata": {},
   "outputs": [],
   "source": [
    "#Reemplaamos 'La Capital' por 'Capital'\n",
    "alimentar['departamento'] = alimentar['departamento'].str.replace('La Capital','Capital')"
   ]
  },
  {
   "cell_type": "code",
   "execution_count": 130,
   "metadata": {},
   "outputs": [
    {
     "data": {
      "image/png": "[encoded data removed]",
      "text/plain": [
       "<Figure size 1440x432 with 1 Axes>"
      ]
     },
     "metadata": {
      "needs_background": "light"
     },
     "output_type": "display_data"
    }
   ],
   "source": [
    "#Habiendo reemplazado 'La Capital' por 'Capital'\n",
    "top_n = 15\n",
    "idx_top = alimentar['departamento'].value_counts(ascending=False).index[0:top_n]\n",
    "\n",
    "plt.figure(figsize=(20,6))\n",
    "g=sns.countplot(x=\"departamento\", data=alimentar,order=idx_top,palette = \"muted\")\n",
    "g.set_xticklabels(g.get_xticklabels(), rotation=90, ha=\"right\")\n",
    "plt.title('Planes por Departamento', size = 20)\n",
    "plt.xlabel(\"Categoria\", size = 15)\n",
    "plt.ylabel(\"Cantidades\", size = 15)\n",
    "plt.show()"
   ]
  },
  {
   "cell_type": "code",
   "execution_count": 131,
   "metadata": {},
   "outputs": [
    {
     "data": {
      "text/plain": [
       "7.0    566726\n",
       "8.0    432210\n",
       "9.0     49189\n",
       "5.0       450\n",
       "Name: meses_liquidados, dtype: int64"
      ]
     },
     "execution_count": 131,
     "metadata": {},
     "output_type": "execute_result"
    }
   ],
   "source": [
    "#Ahora analizaremos la incidencia de las provincias en el plan AlimentAR\n",
    "serie = pd.Series(alimentar.meses_liquidados)\n",
    "serie.value_counts()"
   ]
  },
  {
   "cell_type": "code",
   "execution_count": 132,
   "metadata": {},
   "outputs": [
    {
     "data": {
      "text/plain": [
       "Text(0.5, 1.0, 'Histogram of Meses Liquidados')"
      ]
     },
     "execution_count": 132,
     "metadata": {},
     "output_type": "execute_result"
    },
    {
     "data": {
      "image/png": "[encoded data removed]",
      "text/plain": [
       "<Figure size 720x216 with 1 Axes>"
      ]
     },
     "metadata": {
      "needs_background": "light"
     },
     "output_type": "display_data"
    }
   ],
   "source": [
    "#Si hicieramos un histograma de los valores obtenidos\n",
    "plt.figure(figsize=(10,3))\n",
    "sns.countplot(alimentar.meses_liquidados, color=\"Red\")\n",
    "plt.xlabel(\"Meses Liquidados\",size = 15)\n",
    "plt.ylabel(\"Qty\",size = 15)\n",
    "plt.title('Histogram of Meses Liquidados',size = 15)"
   ]
  },
  {
   "cell_type": "markdown",
   "metadata": {},
   "source": [
    "Del casi 1.5M de registros de personas únicos, solo 450 hicieron uso del plan durante 5 meses, siendo que la mayor concentración esta entre 7 y 8 meses. \n"
   ]
  },
  {
   "cell_type": "code",
   "execution_count": 133,
   "metadata": {},
   "outputs": [
    {
     "data": {
      "image/png": "[encoded data removed]",
      "text/plain": [
       "<Figure size 720x216 with 1 Axes>"
      ]
     },
     "metadata": {
      "needs_background": "light"
     },
     "output_type": "display_data"
    },
    {
     "data": {
      "text/plain": [
       "Text(0.5, 1.0, 'Histogram of Total Liquidado')"
      ]
     },
     "execution_count": 133,
     "metadata": {},
     "output_type": "execute_result"
    },
    {
     "data": {
      "image/png": "[encoded data removed]",
      "text/plain": [
       "<Figure size 720x216 with 1 Axes>"
      ]
     },
     "metadata": {
      "needs_background": "light"
     },
     "output_type": "display_data"
    }
   ],
   "source": [
    "#Si hicieramos un histograma del valor total liquidado por persona única\n",
    "plt.figure(figsize=(10,3))\n",
    "sns.kdeplot(alimentar['total_liquidado'], color= \"Red\", shade = True)\n",
    "plt.xlabel(\"Total\",size = 15)\n",
    "plt.ylabel(\"Frecuency\",size = 15)\n",
    "plt.title('Distribution of Total Liquidado',size = 15)\n",
    "plt.show()\n",
    "\n",
    "plt.figure(figsize=(10,3))\n",
    "sns.countplot(alimentar.total_liquidado, color=\"Red\")\n",
    "plt.xlabel(\"Monto Liquidado\",size = 15)\n",
    "plt.ylabel(\"Qty\",size = 15)\n",
    "plt.title('Histogram of Total Liquidado',size = 15)"
   ]
  },
  {
   "cell_type": "code",
   "execution_count": 29,
   "metadata": {},
   "outputs": [
    {
     "data": {
      "text/plain": [
       "28000.0    398132\n",
       "32000.0    305077\n",
       "42000.0    168594\n",
       "48000.0    127133\n",
       "36000.0     33637\n",
       "54000.0     15552\n",
       "20000.0       353\n",
       "30000.0        97\n",
       "Name: total_liquidado, dtype: int64"
      ]
     },
     "execution_count": 29,
     "metadata": {},
     "output_type": "execute_result"
    }
   ],
   "source": [
    "#Veamos la cantidad de registros únicos que cobraron esos montos expresados en el gráfico anterior\n",
    "serie = pd.Series(alimentar.total_liquidado)\n",
    "serie.value_counts()"
   ]
  },
  {
   "cell_type": "code",
   "execution_count": 30,
   "metadata": {},
   "outputs": [],
   "source": [
    "#Se propone definir 4 Bandas para analizar. (20k-30k)(30k-40k)(40k-50k)(+50k)\n",
    "alimentar.loc[(alimentar['total_liquidado'] > 20000) & (alimentar['total_liquidado'] <= 30000), 'Banda']   = 1\n",
    "alimentar.loc[(alimentar['total_liquidado'] > 30000) & (alimentar['total_liquidado'] <= 40000), 'Banda']   = 2\n",
    "alimentar.loc[(alimentar['total_liquidado'] > 40000) & (alimentar['total_liquidado'] <= 50000), 'Banda']   = 3\n",
    "alimentar.loc[(alimentar['total_liquidado'] > 50000), 'Banda']  = 4"
   ]
  },
  {
   "cell_type": "code",
   "execution_count": 31,
   "metadata": {},
   "outputs": [
    {
     "data": {
      "image/png": "[encoded data removed]",
      "text/plain": [
       "<Figure size 1080x360 with 1 Axes>"
      ]
     },
     "metadata": {
      "needs_background": "light"
     },
     "output_type": "display_data"
    }
   ],
   "source": [
    "#Boxplot de \"Bandas\" vs Provincias\n",
    "g = sns.catplot(x='provincia',y=\"Banda\",data=alimentar, kind=\"box\", height = 5,aspect=3 ,palette = \"muted\")\n",
    "g.despine(left=True)\n",
    "g.set_xticklabels(rotation=90)\n",
    "g = g.set_ylabels(\"Bandas\")\n",
    "plt.title('Boxen plot Bandas vs Provincias',size = 20)\n",
    "plt.show()"
   ]
  },
  {
   "cell_type": "code",
   "execution_count": 32,
   "metadata": {},
   "outputs": [
    {
     "data": {
      "text/html": [
       "<div>\n",
       "<style scoped>\n",
       "    .dataframe tbody tr th:only-of-type {\n",
       "        vertical-align: middle;\n",
       "    }\n",
       "\n",
       "    .dataframe tbody tr th {\n",
       "        vertical-align: top;\n",
       "    }\n",
       "\n",
       "    .dataframe thead th {\n",
       "        text-align: right;\n",
       "    }\n",
       "</style>\n",
       "<table border=\"1\" class=\"dataframe\">\n",
       "  <thead>\n",
       "    <tr style=\"text-align: right;\">\n",
       "      <th>Banda</th>\n",
       "      <th>1.0</th>\n",
       "      <th>2.0</th>\n",
       "      <th>3.0</th>\n",
       "      <th>4.0</th>\n",
       "    </tr>\n",
       "    <tr>\n",
       "      <th>provincia</th>\n",
       "      <th></th>\n",
       "      <th></th>\n",
       "      <th></th>\n",
       "      <th></th>\n",
       "    </tr>\n",
       "  </thead>\n",
       "  <tbody>\n",
       "    <tr>\n",
       "      <th>Buenos Aires</th>\n",
       "      <td>73964</td>\n",
       "      <td>82610</td>\n",
       "      <td>60473</td>\n",
       "      <td>10300</td>\n",
       "    </tr>\n",
       "    <tr>\n",
       "      <th>Catamarca</th>\n",
       "      <td>0</td>\n",
       "      <td>12479</td>\n",
       "      <td>4195</td>\n",
       "      <td>0</td>\n",
       "    </tr>\n",
       "    <tr>\n",
       "      <th>Chaco</th>\n",
       "      <td>2</td>\n",
       "      <td>5096</td>\n",
       "      <td>0</td>\n",
       "      <td>2353</td>\n",
       "    </tr>\n",
       "    <tr>\n",
       "      <th>Chubut</th>\n",
       "      <td>9318</td>\n",
       "      <td>0</td>\n",
       "      <td>3436</td>\n",
       "      <td>0</td>\n",
       "    </tr>\n",
       "    <tr>\n",
       "      <th>Ciudad de Buenos Aires</th>\n",
       "      <td>30228</td>\n",
       "      <td>0</td>\n",
       "      <td>10823</td>\n",
       "      <td>0</td>\n",
       "    </tr>\n",
       "    <tr>\n",
       "      <th>Corrientes</th>\n",
       "      <td>36196</td>\n",
       "      <td>0</td>\n",
       "      <td>16262</td>\n",
       "      <td>0</td>\n",
       "    </tr>\n",
       "    <tr>\n",
       "      <th>Córdoba</th>\n",
       "      <td>4</td>\n",
       "      <td>82736</td>\n",
       "      <td>34217</td>\n",
       "      <td>0</td>\n",
       "    </tr>\n",
       "    <tr>\n",
       "      <th>Entre Ríos</th>\n",
       "      <td>0</td>\n",
       "      <td>26745</td>\n",
       "      <td>11184</td>\n",
       "      <td>0</td>\n",
       "    </tr>\n",
       "    <tr>\n",
       "      <th>Formosa</th>\n",
       "      <td>22579</td>\n",
       "      <td>0</td>\n",
       "      <td>9907</td>\n",
       "      <td>0</td>\n",
       "    </tr>\n",
       "    <tr>\n",
       "      <th>Jujuy</th>\n",
       "      <td>23950</td>\n",
       "      <td>0</td>\n",
       "      <td>7694</td>\n",
       "      <td>0</td>\n",
       "    </tr>\n",
       "    <tr>\n",
       "      <th>La Pampa</th>\n",
       "      <td>3</td>\n",
       "      <td>7262</td>\n",
       "      <td>3022</td>\n",
       "      <td>0</td>\n",
       "    </tr>\n",
       "    <tr>\n",
       "      <th>La Rioja</th>\n",
       "      <td>11408</td>\n",
       "      <td>0</td>\n",
       "      <td>3949</td>\n",
       "      <td>0</td>\n",
       "    </tr>\n",
       "    <tr>\n",
       "      <th>Mendoza</th>\n",
       "      <td>47638</td>\n",
       "      <td>0</td>\n",
       "      <td>21737</td>\n",
       "      <td>0</td>\n",
       "    </tr>\n",
       "    <tr>\n",
       "      <th>Misiones</th>\n",
       "      <td>42053</td>\n",
       "      <td>0</td>\n",
       "      <td>21556</td>\n",
       "      <td>0</td>\n",
       "    </tr>\n",
       "    <tr>\n",
       "      <th>Neuquén</th>\n",
       "      <td>11572</td>\n",
       "      <td>0</td>\n",
       "      <td>4730</td>\n",
       "      <td>0</td>\n",
       "    </tr>\n",
       "    <tr>\n",
       "      <th>Río Negro</th>\n",
       "      <td>14679</td>\n",
       "      <td>0</td>\n",
       "      <td>5612</td>\n",
       "      <td>0</td>\n",
       "    </tr>\n",
       "    <tr>\n",
       "      <th>Salta</th>\n",
       "      <td>1</td>\n",
       "      <td>4724</td>\n",
       "      <td>0</td>\n",
       "      <td>2145</td>\n",
       "    </tr>\n",
       "    <tr>\n",
       "      <th>San Juan</th>\n",
       "      <td>22086</td>\n",
       "      <td>0</td>\n",
       "      <td>11191</td>\n",
       "      <td>0</td>\n",
       "    </tr>\n",
       "    <tr>\n",
       "      <th>San Luis</th>\n",
       "      <td>12493</td>\n",
       "      <td>0</td>\n",
       "      <td>4376</td>\n",
       "      <td>0</td>\n",
       "    </tr>\n",
       "    <tr>\n",
       "      <th>Santa Cruz</th>\n",
       "      <td>0</td>\n",
       "      <td>6641</td>\n",
       "      <td>2889</td>\n",
       "      <td>0</td>\n",
       "    </tr>\n",
       "    <tr>\n",
       "      <th>Santa Fe</th>\n",
       "      <td>1</td>\n",
       "      <td>59113</td>\n",
       "      <td>22765</td>\n",
       "      <td>754</td>\n",
       "    </tr>\n",
       "    <tr>\n",
       "      <th>Santiago del Estero</th>\n",
       "      <td>37475</td>\n",
       "      <td>0</td>\n",
       "      <td>15313</td>\n",
       "      <td>0</td>\n",
       "    </tr>\n",
       "    <tr>\n",
       "      <th>Tierra del Fuego</th>\n",
       "      <td>2578</td>\n",
       "      <td>0</td>\n",
       "      <td>848</td>\n",
       "      <td>0</td>\n",
       "    </tr>\n",
       "    <tr>\n",
       "      <th>Tucumán</th>\n",
       "      <td>1</td>\n",
       "      <td>51308</td>\n",
       "      <td>19548</td>\n",
       "      <td>0</td>\n",
       "    </tr>\n",
       "  </tbody>\n",
       "</table>\n",
       "</div>"
      ],
      "text/plain": [
       "Banda                     1.0    2.0    3.0    4.0\n",
       "provincia                                         \n",
       "Buenos Aires            73964  82610  60473  10300\n",
       "Catamarca                   0  12479   4195      0\n",
       "Chaco                       2   5096      0   2353\n",
       "Chubut                   9318      0   3436      0\n",
       "Ciudad de Buenos Aires  30228      0  10823      0\n",
       "Corrientes              36196      0  16262      0\n",
       "Córdoba                     4  82736  34217      0\n",
       "Entre Ríos                  0  26745  11184      0\n",
       "Formosa                 22579      0   9907      0\n",
       "Jujuy                   23950      0   7694      0\n",
       "La Pampa                    3   7262   3022      0\n",
       "La Rioja                11408      0   3949      0\n",
       "Mendoza                 47638      0  21737      0\n",
       "Misiones                42053      0  21556      0\n",
       "Neuquén                 11572      0   4730      0\n",
       "Río Negro               14679      0   5612      0\n",
       "Salta                       1   4724      0   2145\n",
       "San Juan                22086      0  11191      0\n",
       "San Luis                12493      0   4376      0\n",
       "Santa Cruz                  0   6641   2889      0\n",
       "Santa Fe                    1  59113  22765    754\n",
       "Santiago del Estero     37475      0  15313      0\n",
       "Tierra del Fuego         2578      0    848      0\n",
       "Tucumán                     1  51308  19548      0"
      ]
     },
     "execution_count": 32,
     "metadata": {},
     "output_type": "execute_result"
    }
   ],
   "source": [
    "#Planteamos las bandas en una tabla, para verlo en valores totales según corresponda\n",
    "pd.crosstab(alimentar['provincia'],alimentar['Banda'])"
   ]
  },
  {
   "cell_type": "code",
   "execution_count": 33,
   "metadata": {},
   "outputs": [
    {
     "data": {
      "text/plain": [
       "count    1.048575e+06\n",
       "mean     3.447937e+04\n",
       "std      7.401699e+03\n",
       "min      2.000000e+04\n",
       "25%      2.800000e+04\n",
       "50%      3.200000e+04\n",
       "75%      4.200000e+04\n",
       "max      5.400000e+04\n",
       "Name: total_liquidado, dtype: float64"
      ]
     },
     "execution_count": 33,
     "metadata": {},
     "output_type": "execute_result"
    }
   ],
   "source": [
    "#Estadísticas descriptivas de la columna \"total liquidado\"\n",
    "alimentar['total_liquidado'].describe()"
   ]
  },
  {
   "cell_type": "code",
   "execution_count": 34,
   "metadata": {},
   "outputs": [
    {
     "name": "stdout",
     "output_type": "stream",
     "text": [
      "34479.36675965\n",
      "7401.6951787424405\n"
     ]
    }
   ],
   "source": [
    "media = np.mean(alimentar['total_liquidado'])\n",
    "desvio = np.std(alimentar['total_liquidado'])\n",
    "print (media)\n",
    "print (desvio)"
   ]
  },
  {
   "cell_type": "code",
   "execution_count": 35,
   "metadata": {},
   "outputs": [
    {
     "name": "stdout",
     "output_type": "stream",
     "text": [
      "Filas: 24\n",
      "Columnas:3\r\n",
      "\n",
      "Esta sería la base de datos de población total y cantidad de personas con tarjeta alimentAR:\n"
     ]
    },
    {
     "data": {
      "text/html": [
       "<div>\n",
       "<style scoped>\n",
       "    .dataframe tbody tr th:only-of-type {\n",
       "        vertical-align: middle;\n",
       "    }\n",
       "\n",
       "    .dataframe tbody tr th {\n",
       "        vertical-align: top;\n",
       "    }\n",
       "\n",
       "    .dataframe thead th {\n",
       "        text-align: right;\n",
       "    }\n",
       "</style>\n",
       "<table border=\"1\" class=\"dataframe\">\n",
       "  <thead>\n",
       "    <tr style=\"text-align: right;\">\n",
       "      <th></th>\n",
       "      <th>provincia</th>\n",
       "      <th>total</th>\n",
       "      <th>alimentar</th>\n",
       "    </tr>\n",
       "  </thead>\n",
       "  <tbody>\n",
       "    <tr>\n",
       "      <th>0</th>\n",
       "      <td>Buenos Aires</td>\n",
       "      <td>15625084</td>\n",
       "      <td>227589</td>\n",
       "    </tr>\n",
       "    <tr>\n",
       "      <th>1</th>\n",
       "      <td>Córdoba</td>\n",
       "      <td>3308876</td>\n",
       "      <td>116970</td>\n",
       "    </tr>\n",
       "    <tr>\n",
       "      <th>2</th>\n",
       "      <td>Santa Fe</td>\n",
       "      <td>3194537</td>\n",
       "      <td>82640</td>\n",
       "    </tr>\n",
       "    <tr>\n",
       "      <th>3</th>\n",
       "      <td>Ciudad de Buenos Aires</td>\n",
       "      <td>2890151</td>\n",
       "      <td>41077</td>\n",
       "    </tr>\n",
       "    <tr>\n",
       "      <th>4</th>\n",
       "      <td>Mendoza</td>\n",
       "      <td>1738929</td>\n",
       "      <td>69379</td>\n",
       "    </tr>\n",
       "    <tr>\n",
       "      <th>5</th>\n",
       "      <td>Tucumán</td>\n",
       "      <td>1448188</td>\n",
       "      <td>70860</td>\n",
       "    </tr>\n",
       "    <tr>\n",
       "      <th>6</th>\n",
       "      <td>Entre Ríos</td>\n",
       "      <td>1235994</td>\n",
       "      <td>37931</td>\n",
       "    </tr>\n",
       "    <tr>\n",
       "      <th>7</th>\n",
       "      <td>Salta</td>\n",
       "      <td>1214441</td>\n",
       "      <td>6880</td>\n",
       "    </tr>\n",
       "    <tr>\n",
       "      <th>8</th>\n",
       "      <td>Misiones</td>\n",
       "      <td>1101593</td>\n",
       "      <td>63616</td>\n",
       "    </tr>\n",
       "    <tr>\n",
       "      <th>9</th>\n",
       "      <td>Chaco</td>\n",
       "      <td>1055259</td>\n",
       "      <td>7454</td>\n",
       "    </tr>\n",
       "    <tr>\n",
       "      <th>10</th>\n",
       "      <td>Corrientes</td>\n",
       "      <td>992595</td>\n",
       "      <td>52467</td>\n",
       "    </tr>\n",
       "    <tr>\n",
       "      <th>11</th>\n",
       "      <td>Santiago del Estero</td>\n",
       "      <td>874006</td>\n",
       "      <td>52793</td>\n",
       "    </tr>\n",
       "    <tr>\n",
       "      <th>12</th>\n",
       "      <td>San Juan</td>\n",
       "      <td>681055</td>\n",
       "      <td>33280</td>\n",
       "    </tr>\n",
       "    <tr>\n",
       "      <th>13</th>\n",
       "      <td>Jujuy</td>\n",
       "      <td>673307</td>\n",
       "      <td>31648</td>\n",
       "    </tr>\n",
       "    <tr>\n",
       "      <th>14</th>\n",
       "      <td>Río Negro</td>\n",
       "      <td>638645</td>\n",
       "      <td>20293</td>\n",
       "    </tr>\n",
       "    <tr>\n",
       "      <th>15</th>\n",
       "      <td>Neuquén</td>\n",
       "      <td>551266</td>\n",
       "      <td>16305</td>\n",
       "    </tr>\n",
       "    <tr>\n",
       "      <th>16</th>\n",
       "      <td>Formosa</td>\n",
       "      <td>530162</td>\n",
       "      <td>32489</td>\n",
       "    </tr>\n",
       "    <tr>\n",
       "      <th>17</th>\n",
       "      <td>Chubut</td>\n",
       "      <td>509108</td>\n",
       "      <td>12756</td>\n",
       "    </tr>\n",
       "    <tr>\n",
       "      <th>18</th>\n",
       "      <td>San Luis</td>\n",
       "      <td>432310</td>\n",
       "      <td>16872</td>\n",
       "    </tr>\n",
       "    <tr>\n",
       "      <th>19</th>\n",
       "      <td>Catamarca</td>\n",
       "      <td>367828</td>\n",
       "      <td>16674</td>\n",
       "    </tr>\n",
       "    <tr>\n",
       "      <th>20</th>\n",
       "      <td>La Rioja</td>\n",
       "      <td>333642</td>\n",
       "      <td>15357</td>\n",
       "    </tr>\n",
       "    <tr>\n",
       "      <th>21</th>\n",
       "      <td>La Pampa</td>\n",
       "      <td>318951</td>\n",
       "      <td>10289</td>\n",
       "    </tr>\n",
       "    <tr>\n",
       "      <th>22</th>\n",
       "      <td>Santa Cruz</td>\n",
       "      <td>273964</td>\n",
       "      <td>9530</td>\n",
       "    </tr>\n",
       "    <tr>\n",
       "      <th>23</th>\n",
       "      <td>Tierra del Fuego</td>\n",
       "      <td>127205</td>\n",
       "      <td>3426</td>\n",
       "    </tr>\n",
       "  </tbody>\n",
       "</table>\n",
       "</div>"
      ],
      "text/plain": [
       "                 provincia     total  alimentar\n",
       "0             Buenos Aires  15625084     227589\n",
       "1                  Córdoba   3308876     116970\n",
       "2                 Santa Fe   3194537      82640\n",
       "3   Ciudad de Buenos Aires   2890151      41077\n",
       "4                  Mendoza   1738929      69379\n",
       "5                  Tucumán   1448188      70860\n",
       "6               Entre Ríos   1235994      37931\n",
       "7                    Salta   1214441       6880\n",
       "8                 Misiones   1101593      63616\n",
       "9                    Chaco   1055259       7454\n",
       "10              Corrientes    992595      52467\n",
       "11     Santiago del Estero    874006      52793\n",
       "12                San Juan    681055      33280\n",
       "13                   Jujuy    673307      31648\n",
       "14               Río Negro    638645      20293\n",
       "15                 Neuquén    551266      16305\n",
       "16                 Formosa    530162      32489\n",
       "17                  Chubut    509108      12756\n",
       "18                San Luis    432310      16872\n",
       "19               Catamarca    367828      16674\n",
       "20                La Rioja    333642      15357\n",
       "21                La Pampa    318951      10289\n",
       "22              Santa Cruz    273964       9530\n",
       "23        Tierra del Fuego    127205       3426"
      ]
     },
     "execution_count": 35,
     "metadata": {},
     "output_type": "execute_result"
    }
   ],
   "source": [
    "#Agregamos al análisis una tabla con la cantidad total de personas por provincia, para analizar la incidencia del plan\n",
    "filas = np.shape(poblacion)[0]\n",
    "print(f'Filas: {filas}')\n",
    "\n",
    "columnas = np.shape(poblacion)[1]\n",
    "print(f'Columnas:{columnas}\\r\\n')\n",
    "\n",
    "print('Esta sería la base de datos de población total y cantidad de personas con tarjeta alimentAR:')\n",
    "poblacion.head(25)"
   ]
  },
  {
   "cell_type": "code",
   "execution_count": 36,
   "metadata": {},
   "outputs": [
    {
     "data": {
      "text/html": [
       "<div>\n",
       "<style scoped>\n",
       "    .dataframe tbody tr th:only-of-type {\n",
       "        vertical-align: middle;\n",
       "    }\n",
       "\n",
       "    .dataframe tbody tr th {\n",
       "        vertical-align: top;\n",
       "    }\n",
       "\n",
       "    .dataframe thead th {\n",
       "        text-align: right;\n",
       "    }\n",
       "</style>\n",
       "<table border=\"1\" class=\"dataframe\">\n",
       "  <thead>\n",
       "    <tr style=\"text-align: right;\">\n",
       "      <th></th>\n",
       "      <th>alimentar</th>\n",
       "      <th>total</th>\n",
       "      <th>%_Alimentar</th>\n",
       "    </tr>\n",
       "    <tr>\n",
       "      <th>provincia</th>\n",
       "      <th></th>\n",
       "      <th></th>\n",
       "      <th></th>\n",
       "    </tr>\n",
       "  </thead>\n",
       "  <tbody>\n",
       "    <tr>\n",
       "      <th>Formosa</th>\n",
       "      <td>32489.0</td>\n",
       "      <td>530162.0</td>\n",
       "      <td>6.128127</td>\n",
       "    </tr>\n",
       "    <tr>\n",
       "      <th>Santiago del Estero</th>\n",
       "      <td>52793.0</td>\n",
       "      <td>874006.0</td>\n",
       "      <td>6.040348</td>\n",
       "    </tr>\n",
       "    <tr>\n",
       "      <th>Misiones</th>\n",
       "      <td>63616.0</td>\n",
       "      <td>1101593.0</td>\n",
       "      <td>5.774910</td>\n",
       "    </tr>\n",
       "    <tr>\n",
       "      <th>Corrientes</th>\n",
       "      <td>52467.0</td>\n",
       "      <td>992595.0</td>\n",
       "      <td>5.285842</td>\n",
       "    </tr>\n",
       "    <tr>\n",
       "      <th>Tucumán</th>\n",
       "      <td>70860.0</td>\n",
       "      <td>1448188.0</td>\n",
       "      <td>4.893011</td>\n",
       "    </tr>\n",
       "    <tr>\n",
       "      <th>San Juan</th>\n",
       "      <td>33280.0</td>\n",
       "      <td>681055.0</td>\n",
       "      <td>4.886536</td>\n",
       "    </tr>\n",
       "    <tr>\n",
       "      <th>Jujuy</th>\n",
       "      <td>31648.0</td>\n",
       "      <td>673307.0</td>\n",
       "      <td>4.700382</td>\n",
       "    </tr>\n",
       "    <tr>\n",
       "      <th>La Rioja</th>\n",
       "      <td>15357.0</td>\n",
       "      <td>333642.0</td>\n",
       "      <td>4.602838</td>\n",
       "    </tr>\n",
       "    <tr>\n",
       "      <th>Catamarca</th>\n",
       "      <td>16674.0</td>\n",
       "      <td>367828.0</td>\n",
       "      <td>4.533097</td>\n",
       "    </tr>\n",
       "    <tr>\n",
       "      <th>Mendoza</th>\n",
       "      <td>69379.0</td>\n",
       "      <td>1738929.0</td>\n",
       "      <td>3.989755</td>\n",
       "    </tr>\n",
       "    <tr>\n",
       "      <th>San Luis</th>\n",
       "      <td>16872.0</td>\n",
       "      <td>432310.0</td>\n",
       "      <td>3.902755</td>\n",
       "    </tr>\n",
       "    <tr>\n",
       "      <th>Córdoba</th>\n",
       "      <td>116970.0</td>\n",
       "      <td>3308876.0</td>\n",
       "      <td>3.535037</td>\n",
       "    </tr>\n",
       "    <tr>\n",
       "      <th>Santa Cruz</th>\n",
       "      <td>9530.0</td>\n",
       "      <td>273964.0</td>\n",
       "      <td>3.478559</td>\n",
       "    </tr>\n",
       "    <tr>\n",
       "      <th>La Pampa</th>\n",
       "      <td>10289.0</td>\n",
       "      <td>318951.0</td>\n",
       "      <td>3.225887</td>\n",
       "    </tr>\n",
       "    <tr>\n",
       "      <th>Río Negro</th>\n",
       "      <td>20293.0</td>\n",
       "      <td>638645.0</td>\n",
       "      <td>3.177509</td>\n",
       "    </tr>\n",
       "    <tr>\n",
       "      <th>Entre Ríos</th>\n",
       "      <td>37931.0</td>\n",
       "      <td>1235994.0</td>\n",
       "      <td>3.068866</td>\n",
       "    </tr>\n",
       "    <tr>\n",
       "      <th>Neuquén</th>\n",
       "      <td>16305.0</td>\n",
       "      <td>551266.0</td>\n",
       "      <td>2.957737</td>\n",
       "    </tr>\n",
       "    <tr>\n",
       "      <th>Tierra del Fuego</th>\n",
       "      <td>3426.0</td>\n",
       "      <td>127205.0</td>\n",
       "      <td>2.693290</td>\n",
       "    </tr>\n",
       "    <tr>\n",
       "      <th>Santa Fe</th>\n",
       "      <td>82640.0</td>\n",
       "      <td>3194537.0</td>\n",
       "      <td>2.586916</td>\n",
       "    </tr>\n",
       "    <tr>\n",
       "      <th>Chubut</th>\n",
       "      <td>12756.0</td>\n",
       "      <td>509108.0</td>\n",
       "      <td>2.505559</td>\n",
       "    </tr>\n",
       "    <tr>\n",
       "      <th>Buenos Aires</th>\n",
       "      <td>227589.0</td>\n",
       "      <td>15625084.0</td>\n",
       "      <td>1.456562</td>\n",
       "    </tr>\n",
       "    <tr>\n",
       "      <th>Ciudad de Buenos Aires</th>\n",
       "      <td>41077.0</td>\n",
       "      <td>2890151.0</td>\n",
       "      <td>1.421275</td>\n",
       "    </tr>\n",
       "    <tr>\n",
       "      <th>Chaco</th>\n",
       "      <td>7454.0</td>\n",
       "      <td>1055259.0</td>\n",
       "      <td>0.706367</td>\n",
       "    </tr>\n",
       "    <tr>\n",
       "      <th>Salta</th>\n",
       "      <td>6880.0</td>\n",
       "      <td>1214441.0</td>\n",
       "      <td>0.566516</td>\n",
       "    </tr>\n",
       "  </tbody>\n",
       "</table>\n",
       "</div>"
      ],
      "text/plain": [
       "                        alimentar       total  %_Alimentar\n",
       "provincia                                                 \n",
       "Formosa                   32489.0    530162.0     6.128127\n",
       "Santiago del Estero       52793.0    874006.0     6.040348\n",
       "Misiones                  63616.0   1101593.0     5.774910\n",
       "Corrientes                52467.0    992595.0     5.285842\n",
       "Tucumán                   70860.0   1448188.0     4.893011\n",
       "San Juan                  33280.0    681055.0     4.886536\n",
       "Jujuy                     31648.0    673307.0     4.700382\n",
       "La Rioja                  15357.0    333642.0     4.602838\n",
       "Catamarca                 16674.0    367828.0     4.533097\n",
       "Mendoza                   69379.0   1738929.0     3.989755\n",
       "San Luis                  16872.0    432310.0     3.902755\n",
       "Córdoba                  116970.0   3308876.0     3.535037\n",
       "Santa Cruz                 9530.0    273964.0     3.478559\n",
       "La Pampa                  10289.0    318951.0     3.225887\n",
       "Río Negro                 20293.0    638645.0     3.177509\n",
       "Entre Ríos                37931.0   1235994.0     3.068866\n",
       "Neuquén                   16305.0    551266.0     2.957737\n",
       "Tierra del Fuego           3426.0    127205.0     2.693290\n",
       "Santa Fe                  82640.0   3194537.0     2.586916\n",
       "Chubut                    12756.0    509108.0     2.505559\n",
       "Buenos Aires             227589.0  15625084.0     1.456562\n",
       "Ciudad de Buenos Aires    41077.0   2890151.0     1.421275\n",
       "Chaco                      7454.0   1055259.0     0.706367\n",
       "Salta                      6880.0   1214441.0     0.566516"
      ]
     },
     "execution_count": 36,
     "metadata": {},
     "output_type": "execute_result"
    }
   ],
   "source": [
    "#Analizamos la incidencia del plan alimentAR en la población total de cada provincia\n",
    "poblacion['total'] = poblacion['total'].astype(float)\n",
    "poblacion['alimentar'] = poblacion['alimentar'].astype(float)\n",
    "\n",
    "\n",
    "incidencia = pd.pivot_table(poblacion, index=[\"provincia\"], values=['total','alimentar'],aggfunc=np.sum)\n",
    "incidencia[\"%_Alimentar\"] = incidencia[\"alimentar\"]/ incidencia[\"total\"] * 100\n",
    "\n",
    "incidencia.sort_values(by=['%_Alimentar'],ascending=[False])\n"
   ]
  },
  {
   "cell_type": "markdown",
   "metadata": {},
   "source": []
  },
  {
   "cell_type": "code",
   "execution_count": 43,
   "metadata": {},
   "outputs": [],
   "source": [
    "incidencia['NUMERO'] = incidencia['NUMERO'].astype(float)"
   ]
  },
  {
   "cell_type": "code",
   "execution_count": 44,
   "metadata": {},
   "outputs": [],
   "source": [
    "mapamundi = mapamundi.merge(\n",
    "                     right = incidencia,\n",
    "                     left_on = 'OBJECTID',\n",
    "                     right_on = 'OBJECTID',\n",
    "                     how = 'left'\n",
    "                     )"
   ]
  },
  {
   "cell_type": "code",
   "execution_count": 45,
   "metadata": {},
   "outputs": [
    {
     "data": {
      "image/png": "[encoded data removed]",
      "text/plain": [
       "<Figure size 1080x1440 with 2 Axes>"
      ]
     },
     "metadata": {
      "needs_background": "light"
     },
     "output_type": "display_data"
    }
   ],
   "source": [
    "vmin, vmax = 0, 1\n",
    "fig, ax = plt.subplots(1, figsize=(15, 20))\n",
    "\n",
    "mapamundi.plot(column='NUMERO', cmap='Blues', linewidth=0.8, ax=ax, edgecolor='0.8')\n",
    "plt.title(\"Incidencia de la Tarjeta AlimentAR por Provincia\",size=15)\n",
    "plt.axis('off')\n",
    "plt.annotate('Source: Elaboración propia en base a Datos Abiertos Argentina, 2020',size=15,xy=(0.1, 0.5),  xycoords='figure fraction', horizontalalignment='left', verticalalignment='top', fontsize=12, color='#555555')\n",
    "sm = plt.cm.ScalarMappable(cmap='Blues', norm=plt.Normalize(vmin=vmin, vmax=vmax))\n",
    "sm._A = []\n",
    "divider = make_axes_locatable(ax)\n",
    "cax = divider.append_axes(\"right\", size=\"3%\", pad=0.05)\n",
    "\n",
    "cbar = fig.colorbar(sm, cax=cax)\n",
    "cbar.ax.tick_params(labelsize=15) \n",
    "plt.show()"
   ]
  },
  {
   "cell_type": "markdown",
   "metadata": {},
   "source": [
    "## Machine Learning\n",
    "\n",
    "#### Regresión Lineal"
   ]
  },
  {
   "cell_type": "markdown",
   "metadata": {},
   "source": [
    "Se procederá a utilizar un modelo de aprendizaje supervisado - regresión lineal\n",
    "\n",
    "Vamos a realizar una tabla de la cantidad de personas que se incribieron por día, inicialmente en Buenos Aires\n"
   ]
  },
  {
   "cell_type": "code",
   "execution_count": 46,
   "metadata": {},
   "outputs": [
    {
     "data": {
      "text/html": [
       "<div>\n",
       "<style scoped>\n",
       "    .dataframe tbody tr th:only-of-type {\n",
       "        vertical-align: middle;\n",
       "    }\n",
       "\n",
       "    .dataframe tbody tr th {\n",
       "        vertical-align: top;\n",
       "    }\n",
       "\n",
       "    .dataframe thead th {\n",
       "        text-align: right;\n",
       "    }\n",
       "</style>\n",
       "<table border=\"1\" class=\"dataframe\">\n",
       "  <thead>\n",
       "    <tr style=\"text-align: right;\">\n",
       "      <th></th>\n",
       "      <th>fecha_alta</th>\n",
       "      <th>id_persona</th>\n",
       "    </tr>\n",
       "  </thead>\n",
       "  <tbody>\n",
       "    <tr>\n",
       "      <th>0</th>\n",
       "      <td>1/10/20</td>\n",
       "      <td>5719</td>\n",
       "    </tr>\n",
       "    <tr>\n",
       "      <th>1</th>\n",
       "      <td>1/14/20</td>\n",
       "      <td>1544</td>\n",
       "    </tr>\n",
       "    <tr>\n",
       "      <th>2</th>\n",
       "      <td>1/15/20</td>\n",
       "      <td>1970</td>\n",
       "    </tr>\n",
       "    <tr>\n",
       "      <th>3</th>\n",
       "      <td>1/20/20</td>\n",
       "      <td>3363</td>\n",
       "    </tr>\n",
       "    <tr>\n",
       "      <th>4</th>\n",
       "      <td>1/22/20</td>\n",
       "      <td>9914</td>\n",
       "    </tr>\n",
       "    <tr>\n",
       "      <th>5</th>\n",
       "      <td>1/24/20</td>\n",
       "      <td>1537</td>\n",
       "    </tr>\n",
       "    <tr>\n",
       "      <th>6</th>\n",
       "      <td>1/27/20</td>\n",
       "      <td>10598</td>\n",
       "    </tr>\n",
       "    <tr>\n",
       "      <th>7</th>\n",
       "      <td>1/28/20</td>\n",
       "      <td>1524</td>\n",
       "    </tr>\n",
       "    <tr>\n",
       "      <th>8</th>\n",
       "      <td>1/29/20</td>\n",
       "      <td>1002</td>\n",
       "    </tr>\n",
       "    <tr>\n",
       "      <th>9</th>\n",
       "      <td>1/30/20</td>\n",
       "      <td>12018</td>\n",
       "    </tr>\n",
       "    <tr>\n",
       "      <th>10</th>\n",
       "      <td>2/10/20</td>\n",
       "      <td>57464</td>\n",
       "    </tr>\n",
       "    <tr>\n",
       "      <th>11</th>\n",
       "      <td>2/12/20</td>\n",
       "      <td>159274</td>\n",
       "    </tr>\n",
       "    <tr>\n",
       "      <th>12</th>\n",
       "      <td>2/14/20</td>\n",
       "      <td>14398</td>\n",
       "    </tr>\n",
       "    <tr>\n",
       "      <th>13</th>\n",
       "      <td>2/18/20</td>\n",
       "      <td>10284</td>\n",
       "    </tr>\n",
       "    <tr>\n",
       "      <th>14</th>\n",
       "      <td>2/20/20</td>\n",
       "      <td>9578</td>\n",
       "    </tr>\n",
       "    <tr>\n",
       "      <th>15</th>\n",
       "      <td>2/26/20</td>\n",
       "      <td>11124</td>\n",
       "    </tr>\n",
       "    <tr>\n",
       "      <th>16</th>\n",
       "      <td>2/27/20</td>\n",
       "      <td>49239</td>\n",
       "    </tr>\n",
       "    <tr>\n",
       "      <th>17</th>\n",
       "      <td>2/28/20</td>\n",
       "      <td>40463</td>\n",
       "    </tr>\n",
       "    <tr>\n",
       "      <th>18</th>\n",
       "      <td>2/3/20</td>\n",
       "      <td>70856</td>\n",
       "    </tr>\n",
       "    <tr>\n",
       "      <th>19</th>\n",
       "      <td>2/6/20</td>\n",
       "      <td>9530</td>\n",
       "    </tr>\n",
       "    <tr>\n",
       "      <th>20</th>\n",
       "      <td>3/1/20</td>\n",
       "      <td>448468</td>\n",
       "    </tr>\n",
       "    <tr>\n",
       "      <th>21</th>\n",
       "      <td>3/2/20</td>\n",
       "      <td>8275</td>\n",
       "    </tr>\n",
       "    <tr>\n",
       "      <th>22</th>\n",
       "      <td>3/3/20</td>\n",
       "      <td>16784</td>\n",
       "    </tr>\n",
       "    <tr>\n",
       "      <th>23</th>\n",
       "      <td>3/4/20</td>\n",
       "      <td>25991</td>\n",
       "    </tr>\n",
       "    <tr>\n",
       "      <th>24</th>\n",
       "      <td>3/5/20</td>\n",
       "      <td>13715</td>\n",
       "    </tr>\n",
       "    <tr>\n",
       "      <th>25</th>\n",
       "      <td>3/6/20</td>\n",
       "      <td>42880</td>\n",
       "    </tr>\n",
       "    <tr>\n",
       "      <th>26</th>\n",
       "      <td>3/9/20</td>\n",
       "      <td>10613</td>\n",
       "    </tr>\n",
       "    <tr>\n",
       "      <th>27</th>\n",
       "      <td>5/1/20</td>\n",
       "      <td>450</td>\n",
       "    </tr>\n",
       "  </tbody>\n",
       "</table>\n",
       "</div>"
      ],
      "text/plain": [
       "   fecha_alta  id_persona\n",
       "0     1/10/20        5719\n",
       "1     1/14/20        1544\n",
       "2     1/15/20        1970\n",
       "3     1/20/20        3363\n",
       "4     1/22/20        9914\n",
       "5     1/24/20        1537\n",
       "6     1/27/20       10598\n",
       "7     1/28/20        1524\n",
       "8     1/29/20        1002\n",
       "9     1/30/20       12018\n",
       "10    2/10/20       57464\n",
       "11    2/12/20      159274\n",
       "12    2/14/20       14398\n",
       "13    2/18/20       10284\n",
       "14    2/20/20        9578\n",
       "15    2/26/20       11124\n",
       "16    2/27/20       49239\n",
       "17    2/28/20       40463\n",
       "18     2/3/20       70856\n",
       "19     2/6/20        9530\n",
       "20     3/1/20      448468\n",
       "21     3/2/20        8275\n",
       "22     3/3/20       16784\n",
       "23     3/4/20       25991\n",
       "24     3/5/20       13715\n",
       "25     3/6/20       42880\n",
       "26     3/9/20       10613\n",
       "27     5/1/20         450"
      ]
     },
     "execution_count": 46,
     "metadata": {},
     "output_type": "execute_result"
    }
   ],
   "source": [
    "ML = alimentar.groupby(\"fecha_alta\").count().reset_index()\n",
    "ML = ML.drop(ML.columns[[2,3,4,5,6,7,8,9]], axis='columns')\n",
    "ML"
   ]
  },
  {
   "cell_type": "code",
   "execution_count": 47,
   "metadata": {},
   "outputs": [
    {
     "data": {
      "text/html": [
       "<div>\n",
       "<style scoped>\n",
       "    .dataframe tbody tr th:only-of-type {\n",
       "        vertical-align: middle;\n",
       "    }\n",
       "\n",
       "    .dataframe tbody tr th {\n",
       "        vertical-align: top;\n",
       "    }\n",
       "\n",
       "    .dataframe thead th {\n",
       "        text-align: right;\n",
       "    }\n",
       "</style>\n",
       "<table border=\"1\" class=\"dataframe\">\n",
       "  <thead>\n",
       "    <tr style=\"text-align: right;\">\n",
       "      <th></th>\n",
       "      <th>ID</th>\n",
       "      <th>fecha_alta</th>\n",
       "      <th>id_persona</th>\n",
       "    </tr>\n",
       "  </thead>\n",
       "  <tbody>\n",
       "    <tr>\n",
       "      <th>0</th>\n",
       "      <td>1</td>\n",
       "      <td>1/10/20</td>\n",
       "      <td>5719</td>\n",
       "    </tr>\n",
       "    <tr>\n",
       "      <th>1</th>\n",
       "      <td>2</td>\n",
       "      <td>1/14/20</td>\n",
       "      <td>1544</td>\n",
       "    </tr>\n",
       "    <tr>\n",
       "      <th>2</th>\n",
       "      <td>3</td>\n",
       "      <td>1/15/20</td>\n",
       "      <td>1970</td>\n",
       "    </tr>\n",
       "    <tr>\n",
       "      <th>3</th>\n",
       "      <td>4</td>\n",
       "      <td>1/20/20</td>\n",
       "      <td>3363</td>\n",
       "    </tr>\n",
       "    <tr>\n",
       "      <th>4</th>\n",
       "      <td>5</td>\n",
       "      <td>1/22/20</td>\n",
       "      <td>9914</td>\n",
       "    </tr>\n",
       "    <tr>\n",
       "      <th>5</th>\n",
       "      <td>6</td>\n",
       "      <td>1/24/20</td>\n",
       "      <td>1537</td>\n",
       "    </tr>\n",
       "    <tr>\n",
       "      <th>6</th>\n",
       "      <td>7</td>\n",
       "      <td>1/27/20</td>\n",
       "      <td>10598</td>\n",
       "    </tr>\n",
       "    <tr>\n",
       "      <th>7</th>\n",
       "      <td>8</td>\n",
       "      <td>1/28/20</td>\n",
       "      <td>1524</td>\n",
       "    </tr>\n",
       "    <tr>\n",
       "      <th>8</th>\n",
       "      <td>9</td>\n",
       "      <td>1/29/20</td>\n",
       "      <td>1002</td>\n",
       "    </tr>\n",
       "    <tr>\n",
       "      <th>9</th>\n",
       "      <td>10</td>\n",
       "      <td>1/30/20</td>\n",
       "      <td>12018</td>\n",
       "    </tr>\n",
       "    <tr>\n",
       "      <th>10</th>\n",
       "      <td>11</td>\n",
       "      <td>2/10/20</td>\n",
       "      <td>57464</td>\n",
       "    </tr>\n",
       "    <tr>\n",
       "      <th>11</th>\n",
       "      <td>12</td>\n",
       "      <td>2/12/20</td>\n",
       "      <td>159274</td>\n",
       "    </tr>\n",
       "    <tr>\n",
       "      <th>12</th>\n",
       "      <td>13</td>\n",
       "      <td>2/14/20</td>\n",
       "      <td>14398</td>\n",
       "    </tr>\n",
       "    <tr>\n",
       "      <th>13</th>\n",
       "      <td>14</td>\n",
       "      <td>2/18/20</td>\n",
       "      <td>10284</td>\n",
       "    </tr>\n",
       "    <tr>\n",
       "      <th>14</th>\n",
       "      <td>15</td>\n",
       "      <td>2/20/20</td>\n",
       "      <td>9578</td>\n",
       "    </tr>\n",
       "    <tr>\n",
       "      <th>15</th>\n",
       "      <td>16</td>\n",
       "      <td>2/26/20</td>\n",
       "      <td>11124</td>\n",
       "    </tr>\n",
       "    <tr>\n",
       "      <th>16</th>\n",
       "      <td>17</td>\n",
       "      <td>2/27/20</td>\n",
       "      <td>49239</td>\n",
       "    </tr>\n",
       "    <tr>\n",
       "      <th>17</th>\n",
       "      <td>18</td>\n",
       "      <td>2/28/20</td>\n",
       "      <td>40463</td>\n",
       "    </tr>\n",
       "    <tr>\n",
       "      <th>18</th>\n",
       "      <td>19</td>\n",
       "      <td>2/3/20</td>\n",
       "      <td>70856</td>\n",
       "    </tr>\n",
       "    <tr>\n",
       "      <th>19</th>\n",
       "      <td>20</td>\n",
       "      <td>2/6/20</td>\n",
       "      <td>9530</td>\n",
       "    </tr>\n",
       "    <tr>\n",
       "      <th>20</th>\n",
       "      <td>21</td>\n",
       "      <td>3/1/20</td>\n",
       "      <td>448468</td>\n",
       "    </tr>\n",
       "    <tr>\n",
       "      <th>21</th>\n",
       "      <td>22</td>\n",
       "      <td>3/2/20</td>\n",
       "      <td>8275</td>\n",
       "    </tr>\n",
       "    <tr>\n",
       "      <th>22</th>\n",
       "      <td>23</td>\n",
       "      <td>3/3/20</td>\n",
       "      <td>16784</td>\n",
       "    </tr>\n",
       "    <tr>\n",
       "      <th>23</th>\n",
       "      <td>24</td>\n",
       "      <td>3/4/20</td>\n",
       "      <td>25991</td>\n",
       "    </tr>\n",
       "    <tr>\n",
       "      <th>24</th>\n",
       "      <td>25</td>\n",
       "      <td>3/5/20</td>\n",
       "      <td>13715</td>\n",
       "    </tr>\n",
       "    <tr>\n",
       "      <th>25</th>\n",
       "      <td>26</td>\n",
       "      <td>3/6/20</td>\n",
       "      <td>42880</td>\n",
       "    </tr>\n",
       "    <tr>\n",
       "      <th>26</th>\n",
       "      <td>27</td>\n",
       "      <td>3/9/20</td>\n",
       "      <td>10613</td>\n",
       "    </tr>\n",
       "    <tr>\n",
       "      <th>27</th>\n",
       "      <td>28</td>\n",
       "      <td>5/1/20</td>\n",
       "      <td>450</td>\n",
       "    </tr>\n",
       "  </tbody>\n",
       "</table>\n",
       "</div>"
      ],
      "text/plain": [
       "    ID fecha_alta  id_persona\n",
       "0    1    1/10/20        5719\n",
       "1    2    1/14/20        1544\n",
       "2    3    1/15/20        1970\n",
       "3    4    1/20/20        3363\n",
       "4    5    1/22/20        9914\n",
       "5    6    1/24/20        1537\n",
       "6    7    1/27/20       10598\n",
       "7    8    1/28/20        1524\n",
       "8    9    1/29/20        1002\n",
       "9   10    1/30/20       12018\n",
       "10  11    2/10/20       57464\n",
       "11  12    2/12/20      159274\n",
       "12  13    2/14/20       14398\n",
       "13  14    2/18/20       10284\n",
       "14  15    2/20/20        9578\n",
       "15  16    2/26/20       11124\n",
       "16  17    2/27/20       49239\n",
       "17  18    2/28/20       40463\n",
       "18  19     2/3/20       70856\n",
       "19  20     2/6/20        9530\n",
       "20  21     3/1/20      448468\n",
       "21  22     3/2/20        8275\n",
       "22  23     3/3/20       16784\n",
       "23  24     3/4/20       25991\n",
       "24  25     3/5/20       13715\n",
       "25  26     3/6/20       42880\n",
       "26  27     3/9/20       10613\n",
       "27  28     5/1/20         450"
      ]
     },
     "execution_count": 47,
     "metadata": {},
     "output_type": "execute_result"
    }
   ],
   "source": [
    "ML.insert(0,'ID', range(1,1+len(ML)))\n",
    "ML"
   ]
  },
  {
   "cell_type": "code",
   "execution_count": 48,
   "metadata": {},
   "outputs": [
    {
     "data": {
      "image/png": "[encoded data removed]",
      "text/plain": [
       "<Figure size 864x576 with 1 Axes>"
      ]
     },
     "metadata": {
      "needs_background": "light"
     },
     "output_type": "display_data"
    }
   ],
   "source": [
    "plt.figure(figsize=(12,8))\n",
    "plt.plot(ML.index, ML['id_persona'], label='Cantidad de personas');\n",
    "plt.legend(loc='upper right')\n",
    "plt.title('Cantidad de Tarjetas por día', size=20)\n",
    "plt.ylabel('Qty Personas',size=12)\n",
    "plt.xlabel('Día',size=12)\n",
    "plt.show()"
   ]
  },
  {
   "cell_type": "code",
   "execution_count": 49,
   "metadata": {},
   "outputs": [],
   "source": [
    "#Regresión Lineal\n",
    "x = np.array(ML[[\"ID\"]])\n",
    "y = np.array(ML[[\"id_persona\"]])"
   ]
  },
  {
   "cell_type": "code",
   "execution_count": 50,
   "metadata": {},
   "outputs": [
    {
     "data": {
      "text/html": [
       "<div>\n",
       "<style scoped>\n",
       "    .dataframe tbody tr th:only-of-type {\n",
       "        vertical-align: middle;\n",
       "    }\n",
       "\n",
       "    .dataframe tbody tr th {\n",
       "        vertical-align: top;\n",
       "    }\n",
       "\n",
       "    .dataframe thead th {\n",
       "        text-align: right;\n",
       "    }\n",
       "</style>\n",
       "<table border=\"1\" class=\"dataframe\">\n",
       "  <thead>\n",
       "    <tr style=\"text-align: right;\">\n",
       "      <th></th>\n",
       "      <th>ID</th>\n",
       "      <th>id_persona</th>\n",
       "    </tr>\n",
       "  </thead>\n",
       "  <tbody>\n",
       "    <tr>\n",
       "      <th>count</th>\n",
       "      <td>28.000000</td>\n",
       "      <td>28.000000</td>\n",
       "    </tr>\n",
       "    <tr>\n",
       "      <th>mean</th>\n",
       "      <td>14.500000</td>\n",
       "      <td>37449.107143</td>\n",
       "    </tr>\n",
       "    <tr>\n",
       "      <th>std</th>\n",
       "      <td>8.225975</td>\n",
       "      <td>86880.865987</td>\n",
       "    </tr>\n",
       "    <tr>\n",
       "      <th>min</th>\n",
       "      <td>1.000000</td>\n",
       "      <td>450.000000</td>\n",
       "    </tr>\n",
       "    <tr>\n",
       "      <th>25%</th>\n",
       "      <td>7.750000</td>\n",
       "      <td>5130.000000</td>\n",
       "    </tr>\n",
       "    <tr>\n",
       "      <th>50%</th>\n",
       "      <td>14.500000</td>\n",
       "      <td>10605.500000</td>\n",
       "    </tr>\n",
       "    <tr>\n",
       "      <th>75%</th>\n",
       "      <td>21.250000</td>\n",
       "      <td>29609.000000</td>\n",
       "    </tr>\n",
       "    <tr>\n",
       "      <th>max</th>\n",
       "      <td>28.000000</td>\n",
       "      <td>448468.000000</td>\n",
       "    </tr>\n",
       "  </tbody>\n",
       "</table>\n",
       "</div>"
      ],
      "text/plain": [
       "              ID     id_persona\n",
       "count  28.000000      28.000000\n",
       "mean   14.500000   37449.107143\n",
       "std     8.225975   86880.865987\n",
       "min     1.000000     450.000000\n",
       "25%     7.750000    5130.000000\n",
       "50%    14.500000   10605.500000\n",
       "75%    21.250000   29609.000000\n",
       "max    28.000000  448468.000000"
      ]
     },
     "execution_count": 50,
     "metadata": {},
     "output_type": "execute_result"
    }
   ],
   "source": [
    "ML.describe()"
   ]
  },
  {
   "cell_type": "code",
   "execution_count": 51,
   "metadata": {},
   "outputs": [
    {
     "data": {
      "text/plain": [
       "(28, 1)"
      ]
     },
     "execution_count": 51,
     "metadata": {},
     "output_type": "execute_result"
    }
   ],
   "source": [
    "y.shape"
   ]
  },
  {
   "cell_type": "code",
   "execution_count": 52,
   "metadata": {},
   "outputs": [],
   "source": [
    "#Dividimos nuestros datos x e y en train 50% / test 50%\n",
    "xtrain, xtest, ytrain, ytest = train_test_split(x, y, test_size=0.50, random_state=20)"
   ]
  },
  {
   "cell_type": "code",
   "execution_count": 53,
   "metadata": {},
   "outputs": [],
   "source": [
    "#Modelo RL\n",
    "lr = LinearRegression()"
   ]
  },
  {
   "cell_type": "code",
   "execution_count": 54,
   "metadata": {},
   "outputs": [
    {
     "data": {
      "text/plain": [
       "LinearRegression()"
      ]
     },
     "execution_count": 54,
     "metadata": {},
     "output_type": "execute_result"
    }
   ],
   "source": [
    "lr.fit(xtrain, ytrain)"
   ]
  },
  {
   "cell_type": "code",
   "execution_count": 55,
   "metadata": {},
   "outputs": [
    {
     "data": {
      "text/plain": [
       "(14, 1)"
      ]
     },
     "execution_count": 55,
     "metadata": {},
     "output_type": "execute_result"
    }
   ],
   "source": [
    "ypred = lr.predict(xtest)\n",
    "ypred.shape"
   ]
  },
  {
   "cell_type": "code",
   "execution_count": 56,
   "metadata": {},
   "outputs": [
    {
     "data": {
      "image/png": "[encoded data removed]",
      "text/plain": [
       "<Figure size 432x288 with 1 Axes>"
      ]
     },
     "metadata": {
      "needs_background": "light"
     },
     "output_type": "display_data"
    }
   ],
   "source": [
    "f1 = plt.plot(ytest, c='red')\n",
    "f2 = plt.plot(ypred)\n",
    "plt.show()"
   ]
  },
  {
   "cell_type": "code",
   "execution_count": 57,
   "metadata": {},
   "outputs": [
    {
     "data": {
      "image/png": "[encoded data removed]",
      "text/plain": [
       "<Figure size 432x288 with 1 Axes>"
      ]
     },
     "metadata": {
      "needs_background": "light"
     },
     "output_type": "display_data"
    }
   ],
   "source": [
    "plt.scatter(x, y)\n",
    "plt.plot(xtest, ypred, color='red')\n",
    "plt.show()"
   ]
  },
  {
   "cell_type": "code",
   "execution_count": 58,
   "metadata": {},
   "outputs": [
    {
     "data": {
      "text/plain": [
       "-15.520940320328783"
      ]
     },
     "execution_count": 58,
     "metadata": {},
     "output_type": "execute_result"
    }
   ],
   "source": [
    "r2_score(ytest, ypred)"
   ]
  },
  {
   "cell_type": "code",
   "execution_count": 59,
   "metadata": {},
   "outputs": [
    {
     "data": {
      "text/plain": [
       "85096.85094043694"
      ]
     },
     "execution_count": 59,
     "metadata": {},
     "output_type": "execute_result"
    }
   ],
   "source": [
    "np.sqrt(mean_squared_error(ytest, ypred))"
   ]
  },
  {
   "cell_type": "code",
   "execution_count": 60,
   "metadata": {},
   "outputs": [
    {
     "data": {
      "text/plain": [
       "7241474039.978944"
      ]
     },
     "execution_count": 60,
     "metadata": {},
     "output_type": "execute_result"
    }
   ],
   "source": [
    "mean_squared_error(ytest, ypred)"
   ]
  },
  {
   "cell_type": "code",
   "execution_count": 61,
   "metadata": {},
   "outputs": [
    {
     "data": {
      "text/plain": [
       "69342.91633226327"
      ]
     },
     "execution_count": 61,
     "metadata": {},
     "output_type": "execute_result"
    }
   ],
   "source": [
    "mean_absolute_error(ytest, ypred)"
   ]
  },
  {
   "cell_type": "markdown",
   "metadata": {},
   "source": [
    "Es interesante ver que los dos valores por encima de los 100.000 son outliers bien marcados del dataset. Durante esos dos días se incribieron un 40% aproximadamente del padrón actualizado en el .csv\n",
    "\n",
    "A modo de generar una \"mejor\" predición, se eliminaran los mismos, a pesar de que no sea estrictamente correcto."
   ]
  },
  {
   "cell_type": "code",
   "execution_count": 62,
   "metadata": {},
   "outputs": [
    {
     "data": {
      "text/html": [
       "<div>\n",
       "<style scoped>\n",
       "    .dataframe tbody tr th:only-of-type {\n",
       "        vertical-align: middle;\n",
       "    }\n",
       "\n",
       "    .dataframe tbody tr th {\n",
       "        vertical-align: top;\n",
       "    }\n",
       "\n",
       "    .dataframe thead th {\n",
       "        text-align: right;\n",
       "    }\n",
       "</style>\n",
       "<table border=\"1\" class=\"dataframe\">\n",
       "  <thead>\n",
       "    <tr style=\"text-align: right;\">\n",
       "      <th></th>\n",
       "      <th>ID</th>\n",
       "      <th>fecha_alta</th>\n",
       "      <th>id_persona</th>\n",
       "    </tr>\n",
       "  </thead>\n",
       "  <tbody>\n",
       "    <tr>\n",
       "      <th>0</th>\n",
       "      <td>1</td>\n",
       "      <td>1/10/20</td>\n",
       "      <td>5719</td>\n",
       "    </tr>\n",
       "    <tr>\n",
       "      <th>1</th>\n",
       "      <td>2</td>\n",
       "      <td>1/14/20</td>\n",
       "      <td>1544</td>\n",
       "    </tr>\n",
       "    <tr>\n",
       "      <th>2</th>\n",
       "      <td>3</td>\n",
       "      <td>1/15/20</td>\n",
       "      <td>1970</td>\n",
       "    </tr>\n",
       "    <tr>\n",
       "      <th>3</th>\n",
       "      <td>4</td>\n",
       "      <td>1/20/20</td>\n",
       "      <td>3363</td>\n",
       "    </tr>\n",
       "    <tr>\n",
       "      <th>4</th>\n",
       "      <td>5</td>\n",
       "      <td>1/22/20</td>\n",
       "      <td>9914</td>\n",
       "    </tr>\n",
       "    <tr>\n",
       "      <th>5</th>\n",
       "      <td>6</td>\n",
       "      <td>1/24/20</td>\n",
       "      <td>1537</td>\n",
       "    </tr>\n",
       "    <tr>\n",
       "      <th>6</th>\n",
       "      <td>7</td>\n",
       "      <td>1/27/20</td>\n",
       "      <td>10598</td>\n",
       "    </tr>\n",
       "    <tr>\n",
       "      <th>7</th>\n",
       "      <td>8</td>\n",
       "      <td>1/28/20</td>\n",
       "      <td>1524</td>\n",
       "    </tr>\n",
       "    <tr>\n",
       "      <th>8</th>\n",
       "      <td>9</td>\n",
       "      <td>1/29/20</td>\n",
       "      <td>1002</td>\n",
       "    </tr>\n",
       "    <tr>\n",
       "      <th>9</th>\n",
       "      <td>10</td>\n",
       "      <td>1/30/20</td>\n",
       "      <td>12018</td>\n",
       "    </tr>\n",
       "    <tr>\n",
       "      <th>10</th>\n",
       "      <td>11</td>\n",
       "      <td>2/10/20</td>\n",
       "      <td>57464</td>\n",
       "    </tr>\n",
       "    <tr>\n",
       "      <th>12</th>\n",
       "      <td>13</td>\n",
       "      <td>2/14/20</td>\n",
       "      <td>14398</td>\n",
       "    </tr>\n",
       "    <tr>\n",
       "      <th>13</th>\n",
       "      <td>14</td>\n",
       "      <td>2/18/20</td>\n",
       "      <td>10284</td>\n",
       "    </tr>\n",
       "    <tr>\n",
       "      <th>14</th>\n",
       "      <td>15</td>\n",
       "      <td>2/20/20</td>\n",
       "      <td>9578</td>\n",
       "    </tr>\n",
       "    <tr>\n",
       "      <th>15</th>\n",
       "      <td>16</td>\n",
       "      <td>2/26/20</td>\n",
       "      <td>11124</td>\n",
       "    </tr>\n",
       "    <tr>\n",
       "      <th>16</th>\n",
       "      <td>17</td>\n",
       "      <td>2/27/20</td>\n",
       "      <td>49239</td>\n",
       "    </tr>\n",
       "    <tr>\n",
       "      <th>17</th>\n",
       "      <td>18</td>\n",
       "      <td>2/28/20</td>\n",
       "      <td>40463</td>\n",
       "    </tr>\n",
       "    <tr>\n",
       "      <th>18</th>\n",
       "      <td>19</td>\n",
       "      <td>2/3/20</td>\n",
       "      <td>70856</td>\n",
       "    </tr>\n",
       "    <tr>\n",
       "      <th>19</th>\n",
       "      <td>20</td>\n",
       "      <td>2/6/20</td>\n",
       "      <td>9530</td>\n",
       "    </tr>\n",
       "    <tr>\n",
       "      <th>21</th>\n",
       "      <td>22</td>\n",
       "      <td>3/2/20</td>\n",
       "      <td>8275</td>\n",
       "    </tr>\n",
       "    <tr>\n",
       "      <th>22</th>\n",
       "      <td>23</td>\n",
       "      <td>3/3/20</td>\n",
       "      <td>16784</td>\n",
       "    </tr>\n",
       "    <tr>\n",
       "      <th>23</th>\n",
       "      <td>24</td>\n",
       "      <td>3/4/20</td>\n",
       "      <td>25991</td>\n",
       "    </tr>\n",
       "    <tr>\n",
       "      <th>24</th>\n",
       "      <td>25</td>\n",
       "      <td>3/5/20</td>\n",
       "      <td>13715</td>\n",
       "    </tr>\n",
       "    <tr>\n",
       "      <th>25</th>\n",
       "      <td>26</td>\n",
       "      <td>3/6/20</td>\n",
       "      <td>42880</td>\n",
       "    </tr>\n",
       "    <tr>\n",
       "      <th>26</th>\n",
       "      <td>27</td>\n",
       "      <td>3/9/20</td>\n",
       "      <td>10613</td>\n",
       "    </tr>\n",
       "    <tr>\n",
       "      <th>27</th>\n",
       "      <td>28</td>\n",
       "      <td>5/1/20</td>\n",
       "      <td>450</td>\n",
       "    </tr>\n",
       "  </tbody>\n",
       "</table>\n",
       "</div>"
      ],
      "text/plain": [
       "    ID fecha_alta  id_persona\n",
       "0    1    1/10/20        5719\n",
       "1    2    1/14/20        1544\n",
       "2    3    1/15/20        1970\n",
       "3    4    1/20/20        3363\n",
       "4    5    1/22/20        9914\n",
       "5    6    1/24/20        1537\n",
       "6    7    1/27/20       10598\n",
       "7    8    1/28/20        1524\n",
       "8    9    1/29/20        1002\n",
       "9   10    1/30/20       12018\n",
       "10  11    2/10/20       57464\n",
       "12  13    2/14/20       14398\n",
       "13  14    2/18/20       10284\n",
       "14  15    2/20/20        9578\n",
       "15  16    2/26/20       11124\n",
       "16  17    2/27/20       49239\n",
       "17  18    2/28/20       40463\n",
       "18  19     2/3/20       70856\n",
       "19  20     2/6/20        9530\n",
       "21  22     3/2/20        8275\n",
       "22  23     3/3/20       16784\n",
       "23  24     3/4/20       25991\n",
       "24  25     3/5/20       13715\n",
       "25  26     3/6/20       42880\n",
       "26  27     3/9/20       10613\n",
       "27  28     5/1/20         450"
      ]
     },
     "execution_count": 62,
     "metadata": {},
     "output_type": "execute_result"
    }
   ],
   "source": [
    "ML2 = ML.drop(ML[ML['id_persona']>100000].index)\n",
    "ML2"
   ]
  },
  {
   "cell_type": "code",
   "execution_count": 63,
   "metadata": {},
   "outputs": [],
   "source": [
    "#Regresión Lineal\n",
    "x1 = np.array(ML2[[\"ID\"]])\n",
    "y1 = np.array(ML2[[\"id_persona\"]])"
   ]
  },
  {
   "cell_type": "code",
   "execution_count": 64,
   "metadata": {},
   "outputs": [],
   "source": [
    "#Dividimos nuestros datos x e y en train 50% / test 50%\n",
    "xtrain1, xtest1, ytrain1, ytest1 = train_test_split(x1, y1, test_size=0.50, random_state=20)"
   ]
  },
  {
   "cell_type": "code",
   "execution_count": 65,
   "metadata": {},
   "outputs": [],
   "source": [
    "#Modelo RL\n",
    "lr1 = LinearRegression()"
   ]
  },
  {
   "cell_type": "code",
   "execution_count": 66,
   "metadata": {},
   "outputs": [
    {
     "data": {
      "text/plain": [
       "LinearRegression()"
      ]
     },
     "execution_count": 66,
     "metadata": {},
     "output_type": "execute_result"
    }
   ],
   "source": [
    "lr1.fit(xtrain1, ytrain1)"
   ]
  },
  {
   "cell_type": "code",
   "execution_count": 67,
   "metadata": {},
   "outputs": [
    {
     "data": {
      "text/plain": [
       "(13, 1)"
      ]
     },
     "execution_count": 67,
     "metadata": {},
     "output_type": "execute_result"
    }
   ],
   "source": [
    "ypred1 = lr1.predict(xtest1)\n",
    "ypred1.shape"
   ]
  },
  {
   "cell_type": "code",
   "execution_count": 68,
   "metadata": {},
   "outputs": [
    {
     "data": {
      "image/png": "[encoded data removed]",
      "text/plain": [
       "<Figure size 432x288 with 1 Axes>"
      ]
     },
     "metadata": {
      "needs_background": "light"
     },
     "output_type": "display_data"
    }
   ],
   "source": [
    "f11 = plt.plot(ytest1, c='red')\n",
    "f21 = plt.plot(ypred1)\n",
    "plt.show()"
   ]
  },
  {
   "cell_type": "code",
   "execution_count": 69,
   "metadata": {},
   "outputs": [
    {
     "data": {
      "image/png": "[encoded data removed]",
      "text/plain": [
       "<Figure size 432x288 with 1 Axes>"
      ]
     },
     "metadata": {
      "needs_background": "light"
     },
     "output_type": "display_data"
    }
   ],
   "source": [
    "plt.scatter(x1, y1)\n",
    "plt.plot(xtest1, ypred1, color='red')\n",
    "plt.show()"
   ]
  },
  {
   "cell_type": "code",
   "execution_count": 70,
   "metadata": {},
   "outputs": [
    {
     "data": {
      "text/plain": [
       "-0.19471701041405387"
      ]
     },
     "execution_count": 70,
     "metadata": {},
     "output_type": "execute_result"
    }
   ],
   "source": [
    "r2_score(ytest1, ypred1)"
   ]
  },
  {
   "cell_type": "code",
   "execution_count": 71,
   "metadata": {},
   "outputs": [
    {
     "data": {
      "text/plain": [
       "23837.687373147233"
      ]
     },
     "execution_count": 71,
     "metadata": {},
     "output_type": "execute_result"
    }
   ],
   "source": [
    "np.sqrt(mean_squared_error(ytest1, ypred1))"
   ]
  },
  {
   "cell_type": "code",
   "execution_count": 72,
   "metadata": {},
   "outputs": [
    {
     "data": {
      "text/plain": [
       "568235339.299903"
      ]
     },
     "execution_count": 72,
     "metadata": {},
     "output_type": "execute_result"
    }
   ],
   "source": [
    "mean_squared_error(ytest1, ypred1)"
   ]
  },
  {
   "cell_type": "code",
   "execution_count": 73,
   "metadata": {},
   "outputs": [
    {
     "data": {
      "text/plain": [
       "18618.560874542127"
      ]
     },
     "execution_count": 73,
     "metadata": {},
     "output_type": "execute_result"
    }
   ],
   "source": [
    "mean_absolute_error(ytest1, ypred1)"
   ]
  },
  {
   "cell_type": "markdown",
   "metadata": {},
   "source": [
    "Mejoran las métricas pero no es estrictamente correcto quitar esos outliers que representan el 40% de las personas adheridas al plan.\n",
    "Por otra parte, mejoraría mucho los resultados contar con mayor cantidad de meses, siendo que el dataset subido en Septiembre cuenta solo con datos a Mayo.\n",
    "\n",
    "Esta regresión lineal bajo el contexto de análisis simplifica mucho la respuesta.\n"
   ]
  },
  {
   "cell_type": "markdown",
   "metadata": {},
   "source": [
    "#### SVR"
   ]
  },
  {
   "cell_type": "code",
   "execution_count": 104,
   "metadata": {},
   "outputs": [],
   "source": [
    "#SVR\n",
    "x2 = np.array(ML[[\"ID\"]])\n",
    "y2 = np.array(ML[[\"id_persona\"]])"
   ]
  },
  {
   "cell_type": "code",
   "execution_count": 75,
   "metadata": {},
   "outputs": [],
   "source": [
    "#Dividimos nuestros datos x e y en train 50% / test 50%\n",
    "x_train, x_test, y_train, y_test = train_test_split(x2, y2, test_size=0.50, random_state=20)"
   ]
  },
  {
   "cell_type": "code",
   "execution_count": 76,
   "metadata": {},
   "outputs": [],
   "source": [
    "scal_x = MinMaxScaler().fit(x_train)\n",
    "x_train_scal = scal_x.transform(x_train)\n",
    "x_test_scal = scal_x.transform(x_test)"
   ]
  },
  {
   "cell_type": "code",
   "execution_count": 77,
   "metadata": {},
   "outputs": [],
   "source": [
    "scal_y = MinMaxScaler().fit(y_train)\n",
    "y_train_scal = scal_y.transform(y_train)\n",
    "y_test_scal = scal_y.transform(y_test)"
   ]
  },
  {
   "cell_type": "code",
   "execution_count": 78,
   "metadata": {},
   "outputs": [],
   "source": [
    "parametros = {'kernel':['rbf', 'poly'], 'degree':(1, 2, 3), 'C':(1, 10, 100), 'gamma':['auto', 'scale'], 'tol':[0.0001, 0.001, 0.01, 0.1]}"
   ]
  },
  {
   "cell_type": "code",
   "execution_count": 79,
   "metadata": {},
   "outputs": [],
   "source": [
    "svm_regresion = SVR()"
   ]
  },
  {
   "cell_type": "code",
   "execution_count": 80,
   "metadata": {},
   "outputs": [
    {
     "data": {
      "text/plain": [
       "GridSearchCV(cv=5, estimator=SVR(), n_jobs=-1,\n",
       "             param_grid={'C': (1, 10, 100), 'degree': (1, 2, 3),\n",
       "                         'gamma': ['auto', 'scale'], 'kernel': ['rbf', 'poly'],\n",
       "                         'tol': [0.0001, 0.001, 0.01, 0.1]},\n",
       "             scoring='neg_mean_squared_error')"
      ]
     },
     "execution_count": 80,
     "metadata": {},
     "output_type": "execute_result"
    }
   ],
   "source": [
    "svm_grid = GridSearchCV(estimator=svm_regresion, param_grid=parametros, scoring='neg_mean_squared_error', n_jobs=-1, cv=5, refit=True)\n",
    "svm_grid.fit(x_train_scal, y_train_scal.reshape(-1, ))"
   ]
  },
  {
   "cell_type": "code",
   "execution_count": 81,
   "metadata": {},
   "outputs": [
    {
     "data": {
      "text/plain": [
       "{'C': 1, 'degree': 1, 'gamma': 'auto', 'kernel': 'rbf', 'tol': 0.001}"
      ]
     },
     "execution_count": 81,
     "metadata": {},
     "output_type": "execute_result"
    }
   ],
   "source": [
    "svm_grid.best_params_"
   ]
  },
  {
   "cell_type": "code",
   "execution_count": 82,
   "metadata": {},
   "outputs": [],
   "source": [
    "y_pred = scal_y.inverse_transform(svm_grid.predict(x_test_scal).reshape(-1, 1))"
   ]
  },
  {
   "cell_type": "code",
   "execution_count": 83,
   "metadata": {},
   "outputs": [
    {
     "data": {
      "text/plain": [
       "-2.1788121729113215"
      ]
     },
     "execution_count": 83,
     "metadata": {},
     "output_type": "execute_result"
    }
   ],
   "source": [
    "r2_score(y_test, y_pred)"
   ]
  },
  {
   "cell_type": "code",
   "execution_count": 84,
   "metadata": {},
   "outputs": [
    {
     "data": {
      "text/plain": [
       "37327.46883888595"
      ]
     },
     "execution_count": 84,
     "metadata": {},
     "output_type": "execute_result"
    }
   ],
   "source": [
    "np.sqrt(mean_squared_error(y_test, y_pred))"
   ]
  },
  {
   "cell_type": "code",
   "execution_count": 85,
   "metadata": {},
   "outputs": [
    {
     "data": {
      "text/plain": [
       "1393339929.9180014"
      ]
     },
     "execution_count": 85,
     "metadata": {},
     "output_type": "execute_result"
    }
   ],
   "source": [
    "mean_squared_error(y_test, y_pred)"
   ]
  },
  {
   "cell_type": "code",
   "execution_count": 86,
   "metadata": {},
   "outputs": [
    {
     "data": {
      "text/plain": [
       "34669.91841170546"
      ]
     },
     "execution_count": 86,
     "metadata": {},
     "output_type": "execute_result"
    }
   ],
   "source": [
    "mean_absolute_error(y_test, y_pred)"
   ]
  },
  {
   "cell_type": "code",
   "execution_count": 87,
   "metadata": {},
   "outputs": [
    {
     "data": {
      "image/png": "[encoded data removed]",
      "text/plain": [
       "<Figure size 432x288 with 1 Axes>"
      ]
     },
     "metadata": {
      "needs_background": "light"
     },
     "output_type": "display_data"
    }
   ],
   "source": [
    "f1 = plt.plot(y_test, c='red')\n",
    "f2 = plt.plot(y_pred)\n",
    "plt.show()"
   ]
  },
  {
   "cell_type": "code",
   "execution_count": 88,
   "metadata": {},
   "outputs": [
    {
     "data": {
      "image/png": "[encoded data removed]",
      "text/plain": [
       "<Figure size 432x288 with 1 Axes>"
      ]
     },
     "metadata": {
      "needs_background": "light"
     },
     "output_type": "display_data"
    }
   ],
   "source": [
    "plt.scatter(x2, y2)\n",
    "plt.plot(x_test, y_pred, color='red')\n",
    "plt.show()"
   ]
  },
  {
   "cell_type": "code",
   "execution_count": 105,
   "metadata": {},
   "outputs": [],
   "source": [
    "#SVR sin outliers\n",
    "x3 = np.array(ML2[[\"ID\"]])\n",
    "y3 = np.array(ML2[[\"id_persona\"]])"
   ]
  },
  {
   "cell_type": "code",
   "execution_count": 90,
   "metadata": {},
   "outputs": [],
   "source": [
    "#Dividimos nuestros datos x e y en train 50% / test 50%\n",
    "x_train, x_test, y_train, y_test = train_test_split(x3, y3, test_size=0.50, random_state=20)"
   ]
  },
  {
   "cell_type": "code",
   "execution_count": 91,
   "metadata": {},
   "outputs": [],
   "source": [
    "scal_x = MinMaxScaler().fit(x_train)\n",
    "x_train_scal = scal_x.transform(x_train)\n",
    "x_test_scal = scal_x.transform(x_test)"
   ]
  },
  {
   "cell_type": "code",
   "execution_count": 92,
   "metadata": {},
   "outputs": [],
   "source": [
    "scal_y = MinMaxScaler().fit(y_train)\n",
    "y_train_scal = scal_y.transform(y_train)\n",
    "y_test_scal = scal_y.transform(y_test)"
   ]
  },
  {
   "cell_type": "code",
   "execution_count": 93,
   "metadata": {},
   "outputs": [],
   "source": [
    "parametros = {'kernel':['rbf', 'poly'], 'degree':(1, 2, 3), 'C':(1, 10, 100), 'gamma':['auto', 'scale'], 'tol':[0.0001, 0.001, 0.01, 0.1]}"
   ]
  },
  {
   "cell_type": "code",
   "execution_count": 94,
   "metadata": {},
   "outputs": [],
   "source": [
    "svm_regresion = SVR()"
   ]
  },
  {
   "cell_type": "code",
   "execution_count": 95,
   "metadata": {},
   "outputs": [
    {
     "data": {
      "text/plain": [
       "GridSearchCV(cv=5, estimator=SVR(), n_jobs=-1,\n",
       "             param_grid={'C': (1, 10, 100), 'degree': (1, 2, 3),\n",
       "                         'gamma': ['auto', 'scale'], 'kernel': ['rbf', 'poly'],\n",
       "                         'tol': [0.0001, 0.001, 0.01, 0.1]},\n",
       "             scoring='neg_mean_squared_error')"
      ]
     },
     "execution_count": 95,
     "metadata": {},
     "output_type": "execute_result"
    }
   ],
   "source": [
    "svm_grid = GridSearchCV(estimator=svm_regresion, param_grid=parametros, scoring='neg_mean_squared_error', n_jobs=-1, cv=5, refit=True)\n",
    "svm_grid.fit(x_train_scal, y_train_scal.reshape(-1, ))"
   ]
  },
  {
   "cell_type": "code",
   "execution_count": 96,
   "metadata": {},
   "outputs": [
    {
     "data": {
      "text/plain": [
       "{'C': 1, 'degree': 1, 'gamma': 'auto', 'kernel': 'rbf', 'tol': 0.1}"
      ]
     },
     "execution_count": 96,
     "metadata": {},
     "output_type": "execute_result"
    }
   ],
   "source": [
    "svm_grid.best_params_"
   ]
  },
  {
   "cell_type": "code",
   "execution_count": 97,
   "metadata": {},
   "outputs": [],
   "source": [
    "y_pred = scal_y.inverse_transform(svm_grid.predict(x_test_scal).reshape(-1, 1))"
   ]
  },
  {
   "cell_type": "code",
   "execution_count": 98,
   "metadata": {},
   "outputs": [
    {
     "data": {
      "text/plain": [
       "-0.0913376112393185"
      ]
     },
     "execution_count": 98,
     "metadata": {},
     "output_type": "execute_result"
    }
   ],
   "source": [
    "r2_score(y_test, y_pred)"
   ]
  },
  {
   "cell_type": "code",
   "execution_count": 99,
   "metadata": {},
   "outputs": [
    {
     "data": {
      "text/plain": [
       "22783.012977452618"
      ]
     },
     "execution_count": 99,
     "metadata": {},
     "output_type": "execute_result"
    }
   ],
   "source": [
    "np.sqrt(mean_squared_error(y_test, y_pred))"
   ]
  },
  {
   "cell_type": "code",
   "execution_count": 100,
   "metadata": {},
   "outputs": [
    {
     "data": {
      "text/plain": [
       "519065680.3307744"
      ]
     },
     "execution_count": 100,
     "metadata": {},
     "output_type": "execute_result"
    }
   ],
   "source": [
    "mean_squared_error(y_test, y_pred)"
   ]
  },
  {
   "cell_type": "code",
   "execution_count": 101,
   "metadata": {},
   "outputs": [
    {
     "data": {
      "text/plain": [
       "16369.875920256804"
      ]
     },
     "execution_count": 101,
     "metadata": {},
     "output_type": "execute_result"
    }
   ],
   "source": [
    "mean_absolute_error(y_test, y_pred)"
   ]
  },
  {
   "cell_type": "code",
   "execution_count": 102,
   "metadata": {},
   "outputs": [
    {
     "data": {
      "image/png": "[encoded data removed]",
      "text/plain": [
       "<Figure size 432x288 with 1 Axes>"
      ]
     },
     "metadata": {
      "needs_background": "light"
     },
     "output_type": "display_data"
    }
   ],
   "source": [
    "f1 = plt.plot(y_test, c='red')\n",
    "f2 = plt.plot(y_pred)\n",
    "plt.show()"
   ]
  },
  {
   "cell_type": "code",
   "execution_count": 103,
   "metadata": {},
   "outputs": [
    {
     "data": {
      "image/png": "[encoded data removed]",
      "text/plain": [
       "<Figure size 432x288 with 1 Axes>"
      ]
     },
     "metadata": {
      "needs_background": "light"
     },
     "output_type": "display_data"
    }
   ],
   "source": [
    "plt.scatter(x3, y3)\n",
    "plt.plot(x_test, y_pred, color='red')\n",
    "plt.show()"
   ]
  }
 ],
 "metadata": {
  "kernelspec": {
   "display_name": "Python 3",
   "language": "python",
   "name": "python3"
  },
  "language_info": {
   "codemirror_mode": {
    "name": "ipython",
    "version": 3
   },
   "file_extension": ".py",
   "mimetype": "text/x-python",
   "name": "python",
   "nbconvert_exporter": "python",
   "pygments_lexer": "ipython3",
   "version": "3.8.3"
  }
 },
 "nbformat": 4,
 "nbformat_minor": 4
}
